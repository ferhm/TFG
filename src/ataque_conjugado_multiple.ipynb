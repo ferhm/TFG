{
 "cells": [
  {
   "cell_type": "code",
   "execution_count": 1,
   "metadata": {},
   "outputs": [],
   "source": [
    "from functools import *\n",
    "import random"
   ]
  },
  {
   "cell_type": "code",
   "execution_count": 2,
   "metadata": {},
   "outputs": [],
   "source": [
    "# Se le pasa una lista que define la permutación\n",
    "def pi_inverse(l):\n",
    "    n = len(l)\n",
    "    Bn = BraidGroup(n)\n",
    "    p = PermutationGroupElement(l)\n",
    "    ciclos = p.cycle_tuples()\n",
    "    b = Bn([1,-1])\n",
    "    \n",
    "    \n",
    "    # Descomponemos en transposiciones los ciclos\n",
    "    desc_trans = []\n",
    "    for i in range(len(ciclos)):\n",
    "        for j in range(len(ciclos[i])-1,0, -1):\n",
    "            desc_trans.append((ciclos[i][0], ciclos[i][j]))\n",
    "    \n",
    "    desc_trans_sim = []\n",
    "    for i in range(len(desc_trans)):\n",
    "        d = [(desc_trans[i][0],desc_trans[i][0]+1)]\n",
    "        for j in range(desc_trans[i][0]+1,desc_trans[i][1]):\n",
    "            d = [(j,j+1)] + d + [(j,j+1)]\n",
    "        desc_trans_sim = desc_trans_sim + d\n",
    "            \n",
    "    for i in range(len(desc_trans_sim)-1,-1,-1):          \n",
    "                b = b * Bn([desc_trans_sim[i][0]])\n",
    "\n",
    "        \n",
    "    return b\n",
    "    \n",
    "    "
   ]
  },
  {
   "cell_type": "code",
   "execution_count": 3,
   "metadata": {},
   "outputs": [],
   "source": [
    "def order_cycles(l):\n",
    "    mov = True\n",
    "\n",
    "    while mov:\n",
    "        mov = False\n",
    "        for i in range(len(l)-1):\n",
    "            if len(l[i]) < len(l[i+1]):\n",
    "                aux = l[i]\n",
    "                l[i] = l[i+1]\n",
    "                l[i+1] = aux\n",
    "                mov = True\n",
    "    \n",
    "    return l"
   ]
  },
  {
   "cell_type": "code",
   "execution_count": 4,
   "metadata": {},
   "outputs": [],
   "source": [
    "def GuessPermutation(v,w,n):\n",
    "    vp = PermutationGroupElement(v.permutation()).cycle_tuples(singletons=True)\n",
    "    wp = PermutationGroupElement(w.permutation()).cycle_tuples(singletons=True)\n",
    "    \n",
    "    vp = order_cycles(vp)\n",
    "    wp = order_cycles(wp)\n",
    "\n",
    "    \n",
    "    tau = [i for i in range(n)]\n",
    "    \n",
    "    for i in range(len(wp)):\n",
    "        for j in range(len(wp[i])):\n",
    "            tau[vp[i][j]-1] = wp[i][j]\n",
    "    #print(tau)\n",
    "    return pi_inverse(tau)\n",
    "    "
   ]
  },
  {
   "cell_type": "code",
   "execution_count": 5,
   "metadata": {
    "scrolled": true
   },
   "outputs": [
    {
     "data": {
      "text/plain": [
       "1"
      ]
     },
     "execution_count": 5,
     "metadata": {},
     "output_type": "execute_result"
    }
   ],
   "source": [
    "Bn = BraidGroup(5)\n",
    "v = Bn([1])\n",
    "x = Bn([3])\n",
    "w = (x^-1)*v*x\n",
    "GuessPermutation(v,w,5)\n"
   ]
  },
  {
   "cell_type": "code",
   "execution_count": 6,
   "metadata": {},
   "outputs": [],
   "source": [
    "def inf(b_normal,n):\n",
    "    Bn = BraidGroup(n)\n",
    "    alpha = Bn([1,-1])\n",
    "    delta = Bn.delta()\n",
    "    neutro = Bn([1,-1])\n",
    "\n",
    "    \n",
    "    rb = 0\n",
    "    \n",
    "    delta_r = b_normal[0]\n",
    "    #print(delta_r)\n",
    "    while delta_r != neutro:\n",
    "        delta_r = delta_r*delta\n",
    "        rb = rb + 1\n",
    "        #print(\"rb\", rb)\n",
    "    #print(\"SALE\")\n",
    "    \n",
    "    return rb\n",
    "    "
   ]
  },
  {
   "cell_type": "code",
   "execution_count": 7,
   "metadata": {},
   "outputs": [],
   "source": [
    "def tauC(w,r,n):\n",
    "    Bn = BraidGroup(n)\n",
    "    delta = Bn.delta()\n",
    "    \n",
    "    return (delta^-r)*w*(delta^r)"
   ]
  },
  {
   "cell_type": "code",
   "execution_count": 8,
   "metadata": {},
   "outputs": [],
   "source": [
    "def compact(normal_form, n):\n",
    "    Bn = BraidGroup(n)\n",
    "    c = Bn([1,-1])\n",
    "    \n",
    "    for i in range(len(normal_form)):\n",
    "        c = c*normal_form[i]\n",
    "    \n",
    "    return c\n",
    "    \n"
   ]
  },
  {
   "cell_type": "code",
   "execution_count": 9,
   "metadata": {},
   "outputs": [],
   "source": [
    "def breakConjugate(v,w,n):\n",
    "    Bn = BraidGroup(n)\n",
    "    delta = Bn.delta()\n",
    "    alpha = Bn([1,-1])\n",
    "    v_normal = v.left_normal_form()\n",
    "    w_normal = w.left_normal_form()\n",
    "    iteraciones = 0\n",
    "    max_iteraciones = 100\n",
    "\n",
    "\n",
    "    \n",
    "    rw = inf(w_normal,n)\n",
    "    rv = inf(v_normal,n)\n",
    "    \n",
    "    \n",
    "    while rw < rv and iteraciones < max_iteraciones:\n",
    "        gamma = delta*tauC(w_normal[1],rw,n)\n",
    "        alpha = gamma*alpha\n",
    "        w = gamma*compact(w_normal,n)*(gamma^-1)\n",
    "        w_normal = w.left_normal_form()\n",
    "        rw = inf(w_normal,n)\n",
    "        iteraciones += 1\n",
    "\n",
    "\n",
    "\n",
    "    sw = len(w_normal)-1 + inf(w_normal,n)\n",
    "    sv = len(v_normal)-1 + inf(v_normal,n)\n",
    "    while sw > sv and iteraciones < max_iteraciones:\n",
    "        gamma = w_normal[len(w_normal)-1]\n",
    "        alpha = gamma*alpha\n",
    "        w = gamma*compact(w_normal,n)*(gamma^-1)\n",
    "        w_normal = w.left_normal_form()\n",
    "        sw = len(w_normal)-1 + inf(w_normal,n)\n",
    "        iteraciones += 1\n",
    "    \n",
    "    v = compact(v_normal,n)\n",
    "    w = compact(w_normal,n)\n",
    "    mu = GuessPermutation(v,w,n)\n",
    "    alpha = mu*alpha\n",
    "    w = mu*w*(mu^-1)\n",
    "    \n",
    "    if v == w and iteraciones < max_iteraciones:\n",
    "        return alpha\n",
    "    else:\n",
    "        return \"failed\"\n",
    "        \n",
    "        \n",
    "        \n",
    "    \n",
    "    \n",
    "    \n",
    "    \n",
    "    "
   ]
  },
  {
   "cell_type": "code",
   "execution_count": 10,
   "metadata": {
    "scrolled": true
   },
   "outputs": [
    {
     "name": "stdout",
     "output_type": "stream",
     "text": [
      "w:  ((s0^-1*s1^-1*s2^-1*s3^-1*s0^-1*s1^-1*s2^-1*s0^-1*s1^-1*s0^-1)^3, s0*s1*s2*s1*s0*s3*s2*s1*s0, s1*s0*s3*s2, s0*s2, s0*s1*s2*s1*s0*s3*s2*s1, s1*s0*s3*s2, s2)\n",
      "v:  ((s0^-1*s1^-1*s2^-1*s3^-1*s0^-1*s1^-1*s2^-1*s0^-1*s1^-1*s0^-1)^2, s1*s0*s2*s1*s3*s2*s1*s0, s0*s2, s0*s1*s2*s1*s0*s3*s2*s1)\n",
      "x:  s1*s3*s2*s0*s2\n",
      "conjugador:  s1*s0*s3*s2^2\n",
      "s1\n",
      "True\n"
     ]
    }
   ],
   "source": [
    "Bn = BraidGroup(5)\n",
    "v = Bn([-1,-3,2,4,-1,-3])\n",
    "x = Bn([2,4,3,1,3])\n",
    "w = (x^-1)*v*x\n",
    "conjugator = breakConjugate(v,w,5)\n",
    "#print(w == conjugator^-1*v*conjugator)\n",
    "print(\"w: \", w.left_normal_form())\n",
    "print(\"v: \", v.left_normal_form())\n",
    "print(\"x: \", x)\n",
    "print(\"conjugador: \", conjugator)\n",
    "\n",
    "print(GuessPermutation(v,w,5))\n",
    "print(w == conjugator^-1*v*conjugator)\n",
    "#print(w.left_normal_form())\n",
    "#print((conjugator^-1*v*conjugator).left_normal_form())"
   ]
  },
  {
   "cell_type": "code",
   "execution_count": 21,
   "metadata": {},
   "outputs": [],
   "source": [
    "def test(lv, lx, n, repeticiones):\n",
    "    Bn = BraidGroup(n)\n",
    "    index_generators1 = list(range(-n+1,0)) + list(range(1,n))\n",
    "    index_generators2 = list(range(1,n))\n",
    "    \n",
    "    aciertos = 0\n",
    "    \n",
    "    for i in range(repeticiones):\n",
    "        print(\"Progreso:\", i*100/repeticiones)\n",
    "        v_list = random.choices(index_generators1, k = lv)\n",
    "        x_list = random.choices(index_generators2, k = lx)\n",
    "        #print(\"v_list: \", v_list)\n",
    "        #print(\"x_list: \", x_list)\n",
    "        v = Bn(v_list)\n",
    "        x = Bn(x_list)\n",
    "       \n",
    "        w = (x^-1)*v*x\n",
    "        \n",
    "        a = breakConjugate(v,w,n)\n",
    "        \n",
    "        if a != \"failed\":\n",
    "            if (a^-1)*v*a != w:\n",
    "                print(\"ERROR\")\n",
    "        \n",
    "        if breakConjugate(v,w,n) != \"failed\":\n",
    "            aciertos = aciertos + 1\n",
    "    \n",
    "    print(\"Aciertos: \", aciertos)\n",
    "    print(\"Fallos: \", repeticiones-aciertos)\n",
    "    "
   ]
  },
  {
   "cell_type": "code",
   "execution_count": 22,
   "metadata": {
    "scrolled": true
   },
   "outputs": [
    {
     "name": "stdout",
     "output_type": "stream",
     "text": [
      "Progreso: 0\n",
      "Progreso: 1\n",
      "Progreso: 2\n",
      "Progreso: 3\n",
      "Progreso: 4\n",
      "Progreso: 5\n",
      "Progreso: 6\n",
      "Progreso: 7\n",
      "Progreso: 8\n",
      "Progreso: 9\n",
      "Progreso: 10\n",
      "Progreso: 11\n",
      "Progreso: 12\n",
      "Progreso: 13\n",
      "Progreso: 14\n",
      "Progreso: 15\n",
      "Progreso: 16\n",
      "Progreso: 17\n",
      "Progreso: 18\n",
      "Progreso: 19\n",
      "Progreso: 20\n",
      "Progreso: 21\n",
      "Progreso: 22\n",
      "Progreso: 23\n",
      "Progreso: 24\n",
      "Progreso: 25\n",
      "Progreso: 26\n",
      "Progreso: 27\n",
      "Progreso: 28\n",
      "Progreso: 29\n",
      "Progreso: 30\n",
      "Progreso: 31\n",
      "Progreso: 32\n",
      "Progreso: 33\n",
      "Progreso: 34\n",
      "Progreso: 35\n",
      "Progreso: 36\n",
      "Progreso: 37\n",
      "Progreso: 38\n",
      "Progreso: 39\n",
      "Progreso: 40\n",
      "Progreso: 41\n",
      "Progreso: 42\n",
      "Progreso: 43\n",
      "Progreso: 44\n",
      "Progreso: 45\n",
      "Progreso: 46\n",
      "Progreso: 47\n",
      "Progreso: 48\n",
      "Progreso: 49\n",
      "Progreso: 50\n",
      "Progreso: 51\n",
      "Progreso: 52\n",
      "Progreso: 53\n",
      "Progreso: 54\n",
      "Progreso: 55\n",
      "Progreso: 56\n",
      "Progreso: 57\n",
      "Progreso: 58\n",
      "Progreso: 59\n",
      "Progreso: 60\n",
      "Progreso: 61\n",
      "Progreso: 62\n",
      "Progreso: 63\n",
      "Progreso: 64\n",
      "Progreso: 65\n",
      "Progreso: 66\n",
      "Progreso: 67\n",
      "Progreso: 68\n",
      "Progreso: 69\n",
      "Progreso: 70\n",
      "Progreso: 71\n",
      "Progreso: 72\n",
      "Progreso: 73\n",
      "Progreso: 74\n",
      "Progreso: 75\n",
      "Progreso: 76\n",
      "Progreso: 77\n",
      "Progreso: 78\n",
      "Progreso: 79\n",
      "Progreso: 80\n",
      "Progreso: 81\n",
      "Progreso: 82\n",
      "Progreso: 83\n",
      "Progreso: 84\n",
      "Progreso: 85\n",
      "Progreso: 86\n",
      "Progreso: 87\n",
      "Progreso: 88\n",
      "Progreso: 89\n",
      "Progreso: 90\n",
      "Progreso: 91\n",
      "Progreso: 92\n",
      "Progreso: 93\n",
      "Progreso: 94\n",
      "Progreso: 95\n",
      "Progreso: 96\n",
      "Progreso: 97\n",
      "Progreso: 98\n",
      "Progreso: 99\n",
      "Aciertos:  41\n",
      "Fallos:  59\n"
     ]
    }
   ],
   "source": [
    "test(5,10,5,100)"
   ]
  },
  {
   "cell_type": "code",
   "execution_count": 13,
   "metadata": {
    "scrolled": true
   },
   "outputs": [
    {
     "name": "stdout",
     "output_type": "stream",
     "text": [
      "Progreso: 0\n",
      "Progreso: 1\n",
      "Progreso: 2\n",
      "Progreso: 3\n",
      "Progreso: 4\n",
      "Progreso: 5\n",
      "Progreso: 6\n",
      "Progreso: 7\n",
      "Progreso: 8\n",
      "Progreso: 9\n",
      "Progreso: 10\n",
      "Progreso: 11\n",
      "Progreso: 12\n",
      "Progreso: 13\n",
      "Progreso: 14\n",
      "Progreso: 15\n",
      "Progreso: 16\n",
      "Progreso: 17\n",
      "Progreso: 18\n",
      "Progreso: 19\n",
      "Progreso: 20\n",
      "Progreso: 21\n",
      "Progreso: 22\n",
      "Progreso: 23\n",
      "Progreso: 24\n",
      "Progreso: 25\n",
      "Progreso: 26\n",
      "Progreso: 27\n",
      "Progreso: 28\n",
      "Progreso: 29\n",
      "Progreso: 30\n",
      "Progreso: 31\n",
      "Progreso: 32\n",
      "Progreso: 33\n",
      "Progreso: 34\n",
      "Progreso: 35\n",
      "Progreso: 36\n",
      "Progreso: 37\n",
      "Progreso: 38\n",
      "Progreso: 39\n",
      "Progreso: 40\n",
      "Progreso: 41\n",
      "Progreso: 42\n",
      "Progreso: 43\n",
      "Progreso: 44\n",
      "Progreso: 45\n",
      "Progreso: 46\n",
      "Progreso: 47\n",
      "Progreso: 48\n",
      "Progreso: 49\n",
      "Progreso: 50\n",
      "Progreso: 51\n",
      "Progreso: 52\n",
      "Progreso: 53\n",
      "Progreso: 54\n",
      "Progreso: 55\n",
      "Progreso: 56\n",
      "Progreso: 57\n",
      "Progreso: 58\n",
      "Progreso: 59\n",
      "Progreso: 60\n",
      "Progreso: 61\n",
      "Progreso: 62\n",
      "Progreso: 63\n",
      "Progreso: 64\n",
      "Progreso: 65\n",
      "Progreso: 66\n",
      "Progreso: 67\n",
      "Progreso: 68\n",
      "Progreso: 69\n",
      "Progreso: 70\n",
      "Progreso: 71\n",
      "Progreso: 72\n",
      "Progreso: 73\n",
      "Progreso: 74\n",
      "Progreso: 75\n",
      "Progreso: 76\n",
      "Progreso: 77\n",
      "Progreso: 78\n",
      "Progreso: 79\n",
      "Progreso: 80\n",
      "Progreso: 81\n",
      "Progreso: 82\n",
      "Progreso: 83\n",
      "Progreso: 84\n",
      "Progreso: 85\n",
      "Progreso: 86\n",
      "Progreso: 87\n",
      "Progreso: 88\n",
      "Progreso: 89\n",
      "Progreso: 90\n",
      "Progreso: 91\n",
      "Progreso: 92\n",
      "Progreso: 93\n",
      "Progreso: 94\n",
      "Progreso: 95\n",
      "Progreso: 96\n",
      "Progreso: 97\n",
      "Progreso: 98\n",
      "Progreso: 99\n",
      "Aciertos:  44\n",
      "Fallos:  56\n"
     ]
    }
   ],
   "source": [
    "test(5,5,5,100)"
   ]
  },
  {
   "cell_type": "code",
   "execution_count": 14,
   "metadata": {
    "scrolled": false
   },
   "outputs": [
    {
     "data": {
      "text/plain": [
       "'failed'"
      ]
     },
     "execution_count": 14,
     "metadata": {},
     "output_type": "execute_result"
    }
   ],
   "source": [
    "Bn = BraidGroup(5)\n",
    "v = Bn([4, 1, 1, 4, -4])\n",
    "x = Bn([3, 3, 4, 2, 1])\n",
    "w = (x^-1)*v*x\n",
    "\n",
    "breakConjugate(v,w,5)\n"
   ]
  },
  {
   "cell_type": "code",
   "execution_count": 15,
   "metadata": {
    "scrolled": false
   },
   "outputs": [
    {
     "data": {
      "text/plain": [
       "0"
      ]
     },
     "execution_count": 15,
     "metadata": {},
     "output_type": "execute_result"
    }
   ],
   "source": [
    "inf(Bn([3, 3, 4, 2, 1]).left_normal_form(),5)"
   ]
  }
 ],
 "metadata": {
  "kernelspec": {
   "display_name": "SageMath 9.2",
   "language": "sage",
   "name": "sagemath"
  },
  "language_info": {
   "codemirror_mode": {
    "name": "ipython",
    "version": 3
   },
   "file_extension": ".py",
   "mimetype": "text/x-python",
   "name": "python",
   "nbconvert_exporter": "python",
   "pygments_lexer": "ipython3",
   "version": "3.8.5"
  }
 },
 "nbformat": 4,
 "nbformat_minor": 4
}
