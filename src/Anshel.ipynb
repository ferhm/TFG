{
 "cells": [
  {
   "cell_type": "code",
   "execution_count": null,
   "metadata": {},
   "outputs": [],
   "source": [
    "from functools import *\n",
    "import random\n",
    "import timeit"
   ]
  },
  {
   "cell_type": "code",
   "execution_count": null,
   "metadata": {},
   "outputs": [],
   "source": [
    "start = timeit.default_timer()\n",
    "sleep(3)\n",
    "end = timeit.default_timer()\n",
    "print(end-start)"
   ]
  },
  {
   "cell_type": "code",
   "execution_count": null,
   "metadata": {},
   "outputs": [],
   "source": [
    "class AnshelAnshelGoldfeld:\n",
    "    \n",
    "    def __init__(self, n, keyLength):\n",
    "        self.n = n\n",
    "        self.Bn = BraidGroup(n)\n",
    "        self.keyLength = keyLength\n",
    "        \n",
    "        #Creamos una lista con los índices de las trenzas de la llave pública y sus inversas y a partir\n",
    "        # de esta creamos la función que creará la llave privada\n",
    "        index_public_key = list(range(-1*(self.keyLength), self.keyLength+1))\n",
    "        index_public_key.remove(0)\n",
    "        self.func = random.choices(index_public_key, k = random.randint(5,10))\n",
    "        \n",
    "        self.generatePublicKey()\n",
    "        self.generatePrivateKey()\n",
    "\n",
    "        \n",
    "    #Creamos una lista con los generadores y sus inversos a partir de la cual crearemos las\n",
    "    #trenzas de la llave pública cuya longitud de palabra estará entre 5 y 10\n",
    "    def generatePublicKey(self):\n",
    "        self.publicKey = []\n",
    "        index_generators = list(range(-1*(self.n)+1, self.n))\n",
    "        index_generators.remove(0)\n",
    "        \n",
    "        for i in range(self.keyLength):\n",
    "            randomList = random.choices(index_generators, k = random.randint(5,10))\n",
    "            self.publicKey.append(self.Bn(randomList))\n",
    "\n",
    "            \n",
    "    def keyFunction(self, f, l):\n",
    "        key = self.Bn([1,-1])\n",
    "\n",
    "        for i in f:\n",
    "            if i > 0:\n",
    "                aux = l[i-1]\n",
    "            else:\n",
    "                aux = (l[-1*i-1]^-1)\n",
    "            \n",
    "            key = key * aux\n",
    "\n",
    "        return key\n",
    "            \n",
    "    def generatePrivateKey(self):\n",
    "        self.privateKey = self.keyFunction(self.func, self.publicKey)\n",
    "        \n",
    "    def messages(self, publicKeyReceiver):\n",
    "        message = []\n",
    "        \n",
    "        for t in publicKeyReceiver:\n",
    "            message.append(self.lnf(self.privateKey*t*(self.privateKey^-1)))\n",
    "            \n",
    "        \n",
    "        \n",
    "        return message\n",
    "    \n",
    "    def commonKey(self, message, participant):\n",
    "        if(participant == 0):\n",
    "            key = self.privateKey*(self.keyFunction(self.func, message)^-1)\n",
    "        else:\n",
    "            key = self.keyFunction(self.func, message)*(self.privateKey^-1)\n",
    "\n",
    "        return self.lnf(key)\n",
    "    \n",
    "    def lnf(self,braid):\n",
    "        normal = self.Bn([1,-1])\n",
    "        tup = braid.left_normal_form()\n",
    "\n",
    "        for i in range(len(tup)):\n",
    "            normal = normal*tup[i]\n",
    "        \n",
    "        return normal\n",
    "        "
   ]
  },
  {
   "cell_type": "code",
   "execution_count": null,
   "metadata": {},
   "outputs": [],
   "source": [
    "def measure(i,j, iterations):\n",
    "    m = []\n",
    "    for k in range(iterations):\n",
    "        start = timeit.default_timer()\n",
    "        A = AnshelAnshelGoldfeld(i,j)\n",
    "        B = AnshelAnshelGoldfeld(i,j)\n",
    "        messageA = A.messages(B.publicKey)\n",
    "        messageB = B.messages(A.publicKey)\n",
    "        commonKeyA = A.commonKey(messageB, 0)\n",
    "        end = timeit.default_timer()\n",
    "        #commonKeyB = B.commonKey(messageA, 1)\n",
    "        m.append(end-start)\n",
    "        if (end-start) > 300:\n",
    "            break\n",
    "            \n",
    "    if len(m) > 1:\n",
    "        stdes = std(m)\n",
    "    else:\n",
    "        stdes = 0;\n",
    "    \n",
    "    return len(m), mean(m), stdes, min(m), max(m)"
   ]
  },
  {
   "cell_type": "code",
   "execution_count": null,
   "metadata": {},
   "outputs": [],
   "source": [
    "def test(n_min,m_max,n_s,l_min,l_max,l_s):\n",
    "    print(\"size_sample,n,l,time,std,min,max\")\n",
    "    for i in range(n_min,m_max+1,n_s):\n",
    "        for j in range(l_min,l_max+1,l_s):\n",
    "            s, t, st, minimo, maximo= measure(i,j,3)\n",
    "            print(s, \",\", i,\",\",j,\",\", t,\",\", st, \",\", minimo,\",\",maximo)\n",
    "            \n",
    "            \n",
    "    "
   ]
  },
  {
   "cell_type": "code",
   "execution_count": null,
   "metadata": {},
   "outputs": [],
   "source": [
    "random.seed(10)"
   ]
  },
  {
   "cell_type": "code",
   "execution_count": null,
   "metadata": {
    "scrolled": true
   },
   "outputs": [],
   "source": [
    "test(5,25,5,5,10,5)"
   ]
  }
 ],
 "metadata": {
  "kernelspec": {
   "display_name": "SageMath 9.2",
   "language": "sage",
   "name": "sagemath"
  },
  "language_info": {
   "codemirror_mode": {
    "name": "ipython",
    "version": 3
   },
   "file_extension": ".py",
   "mimetype": "text/x-python",
   "name": "python",
   "nbconvert_exporter": "python",
   "pygments_lexer": "ipython3",
   "version": "3.8.5"
  }
 },
 "nbformat": 4,
 "nbformat_minor": 4
}
