{
 "cells": [
  {
   "cell_type": "code",
   "execution_count": null,
   "metadata": {},
   "outputs": [],
   "source": [
    "from functools import *\n",
    "import random"
   ]
  },
  {
   "cell_type": "code",
   "execution_count": null,
   "metadata": {},
   "outputs": [],
   "source": [
    "# Se le pasa una lista que define la permutación\n",
    "def pi_inverse(l):\n",
    "    n = len(l)\n",
    "    Bn = BraidGroup(n)\n",
    "    p = PermutationGroupElement(l)\n",
    "    ciclos = p.cycle_tuples()\n",
    "    b = Bn([1,-1])\n",
    "    \n",
    "    \n",
    "    # Descomponemos en transposiciones los ciclos\n",
    "    desc_trans = []\n",
    "    for i in range(len(ciclos)):\n",
    "        for j in range(len(ciclos[i])-1,0, -1):\n",
    "            desc_trans.append((ciclos[i][0], ciclos[i][j]))\n",
    "    \n",
    "    desc_trans_sim = []\n",
    "    for i in range(len(desc_trans)):\n",
    "        d = [(desc_trans[i][0],desc_trans[i][0]+1)]\n",
    "        for j in range(desc_trans[i][0]+1,desc_trans[i][1]):\n",
    "            d = [(j,j+1)] + d + [(j,j+1)]\n",
    "        desc_trans_sim = desc_trans_sim + d\n",
    "            \n",
    "    for i in range(len(desc_trans_sim)-1,-1,-1):          \n",
    "                b = b * Bn([desc_trans_sim[i][0]])\n",
    "\n",
    "        \n",
    "    return b\n",
    "    \n",
    "    "
   ]
  },
  {
   "cell_type": "code",
   "execution_count": null,
   "metadata": {},
   "outputs": [],
   "source": [
    "def order_cycles(l):\n",
    "    mov = True\n",
    "\n",
    "    while mov:\n",
    "        mov = False\n",
    "        for i in range(len(l)-1):\n",
    "            if len(l[i]) < len(l[i+1]):\n",
    "                aux = l[i]\n",
    "                l[i] = l[i+1]\n",
    "                l[i+1] = aux\n",
    "                mov = True\n",
    "    \n",
    "    return l"
   ]
  },
  {
   "cell_type": "code",
   "execution_count": null,
   "metadata": {},
   "outputs": [],
   "source": [
    "def GuessPermutation(v,w,n):\n",
    "    vp = PermutationGroupElement(v.permutation()).cycle_tuples(singletons=True)\n",
    "    wp = PermutationGroupElement(w.permutation()).cycle_tuples(singletons=True)\n",
    "    \n",
    "    vp = order_cycles(vp)\n",
    "    wp = order_cycles(wp)\n",
    "\n",
    "    \n",
    "    tau = [i for i in range(n)]\n",
    "    \n",
    "    for i in range(len(wp)):\n",
    "        for j in range(len(wp[i])):\n",
    "            tau[vp[i][j]-1] = wp[i][j]\n",
    "    #print(tau)\n",
    "    return pi_inverse(tau)\n",
    "    "
   ]
  },
  {
   "cell_type": "code",
   "execution_count": null,
   "metadata": {
    "scrolled": true
   },
   "outputs": [],
   "source": [
    "Bn = BraidGroup(5)\n",
    "v = Bn([1])\n",
    "x = Bn([3])\n",
    "w = (x^-1)*v*x\n",
    "GuessPermutation(v,w,5)\n"
   ]
  },
  {
   "cell_type": "code",
   "execution_count": null,
   "metadata": {},
   "outputs": [],
   "source": [
    "def inf(b_normal,n):\n",
    "    Bn = BraidGroup(n)\n",
    "    alpha = Bn([1,-1])\n",
    "    delta = Bn.delta()\n",
    "    neutro = Bn([1,-1])\n",
    "\n",
    "    \n",
    "    rb = 0\n",
    "    \n",
    "    delta_r = b_normal[0]\n",
    "    #print(delta_r)\n",
    "    while delta_r != neutro:\n",
    "        delta_r = delta_r*delta\n",
    "        rb = rb + 1\n",
    "        #print(\"rb\", rb)\n",
    "    #print(\"SALE\")\n",
    "    \n",
    "    return rb\n",
    "    "
   ]
  },
  {
   "cell_type": "code",
   "execution_count": null,
   "metadata": {},
   "outputs": [],
   "source": [
    "def tauC(w,r,n):\n",
    "    Bn = BraidGroup(n)\n",
    "    delta = Bn.delta()\n",
    "    \n",
    "    return (delta^-r)*w*(delta^r)"
   ]
  },
  {
   "cell_type": "code",
   "execution_count": null,
   "metadata": {},
   "outputs": [],
   "source": [
    "def compact(normal_form, n):\n",
    "    Bn = BraidGroup(n)\n",
    "    c = Bn([1,-1])\n",
    "    \n",
    "    for i in range(len(normal_form)):\n",
    "        c = c*normal_form[i]\n",
    "    \n",
    "    return c\n",
    "    \n"
   ]
  },
  {
   "cell_type": "code",
   "execution_count": null,
   "metadata": {},
   "outputs": [],
   "source": [
    "def breakConjugate(v,w,n):\n",
    "    Bn = BraidGroup(n)\n",
    "    delta = Bn.delta()\n",
    "    alpha = Bn([1,-1])\n",
    "    v_normal = v.left_normal_form()\n",
    "    w_normal = w.left_normal_form()\n",
    "    iteraciones = 0\n",
    "    max_iteraciones = 100\n",
    "\n",
    "\n",
    "    \n",
    "    rw = inf(w_normal,n)\n",
    "    rv = inf(v_normal,n)\n",
    "    \n",
    "    \n",
    "    while rw < rv and iteraciones < max_iteraciones:\n",
    "        gamma = delta*tauC(w_normal[1],rw,n)\n",
    "        alpha = gamma*alpha\n",
    "        w = gamma*compact(w_normal,n)*(gamma^-1)\n",
    "        w_normal = w.left_normal_form()\n",
    "        rw = inf(w_normal,n)\n",
    "        iteraciones += 1\n",
    "\n",
    "\n",
    "\n",
    "    sw = len(w_normal)-1 + inf(w_normal,n)\n",
    "    sv = len(v_normal)-1 + inf(v_normal,n)\n",
    "    while sw > sv and iteraciones < max_iteraciones:\n",
    "        gamma = w_normal[len(w_normal)-1]\n",
    "        alpha = gamma*alpha\n",
    "        w = gamma*compact(w_normal,n)*(gamma^-1)\n",
    "        w_normal = w.left_normal_form()\n",
    "        sw = len(w_normal)-1 + inf(w_normal,n)\n",
    "        iteraciones += 1\n",
    "    \n",
    "    v = compact(v_normal,n)\n",
    "    w = compact(w_normal,n)\n",
    "    mu = GuessPermutation(v,w,n)\n",
    "    alpha = mu*alpha\n",
    "    w = mu*w*(mu^-1)\n",
    "    \n",
    "    if v == w and iteraciones < max_iteraciones:\n",
    "        return alpha\n",
    "    else:\n",
    "        return \"failed\"\n",
    "        \n",
    "        \n",
    "        \n",
    "    \n",
    "    \n",
    "    \n",
    "    \n",
    "    "
   ]
  },
  {
   "cell_type": "code",
   "execution_count": null,
   "metadata": {
    "scrolled": true
   },
   "outputs": [],
   "source": [
    "Bn = BraidGroup(5)\n",
    "v = Bn([-1,-3,2,4,-1,-3])\n",
    "x = Bn([2,4,3,1,3])\n",
    "w = (x^-1)*v*x\n",
    "conjugator = breakConjugate(v,w,5)\n",
    "#print(w == conjugator^-1*v*conjugator)\n",
    "print(\"w: \", w.left_normal_form())\n",
    "print(\"v: \", v.left_normal_form())\n",
    "print(\"x: \", x)\n",
    "print(\"conjugador: \", conjugator)\n",
    "\n",
    "print(GuessPermutation(v,w,5))\n",
    "print(w == conjugator^-1*v*conjugator)\n",
    "#print(w.left_normal_form())\n",
    "#print((conjugator^-1*v*conjugator).left_normal_form())"
   ]
  },
  {
   "cell_type": "code",
   "execution_count": null,
   "metadata": {},
   "outputs": [],
   "source": [
    "def test(lv, lx, n, repeticiones):\n",
    "    Bn = BraidGroup(n)\n",
    "    index_generators1 = list(range(-n+1,0)) + list(range(1,n))\n",
    "    index_generators2 = list(range(1,n))\n",
    "    \n",
    "    aciertos = 0\n",
    "    \n",
    "    for i in range(repeticiones):\n",
    "        print(\"Progreso:\", i)\n",
    "        v_list = random.choices(index_generators1, k = lv)\n",
    "        x_list = random.choices(index_generators2, k = lx)\n",
    "        #print(\"v_list: \", v_list)\n",
    "        #print(\"x_list: \", x_list)\n",
    "        v = Bn(v_list)\n",
    "        x = Bn(x_list)\n",
    "       \n",
    "        w = (x^-1)*v*x\n",
    "        \n",
    "        a = breakConjugate(v,w,n)\n",
    "        \n",
    "        if a != \"failed\":\n",
    "            if (a^-1)*v*a != w:\n",
    "                print(\"ERROR\")\n",
    "        \n",
    "        if breakConjugate(v,w,n) != \"failed\":\n",
    "            aciertos = aciertos + 1\n",
    "    \n",
    "    print(\"Aciertos: \", (aciertos*1.0)/repeticiones)\n",
    "    #print(\"Fallos: \", repeticiones-aciertos)\n",
    "    "
   ]
  },
  {
   "cell_type": "code",
   "execution_count": null,
   "metadata": {},
   "outputs": [],
   "source": [
    "def test_general(li,lf, ni, nf, r):\n",
    "    for i in range(ni,nf+1,5):\n",
    "        for j in range(li,lf+1,5):\n",
    "            print(\"n =\", i, \"l =\", j, \":\")\n",
    "            test(j,j,i,r)"
   ]
  },
  {
   "cell_type": "code",
   "execution_count": null,
   "metadata": {},
   "outputs": [],
   "source": [
    "random.seed(5)"
   ]
  },
  {
   "cell_type": "code",
   "execution_count": null,
   "metadata": {},
   "outputs": [],
   "source": [
    "test_general(5,10,5,25,10)"
   ]
  }
 ],
 "metadata": {
  "kernelspec": {
   "display_name": "SageMath 9.2",
   "language": "sage",
   "name": "sagemath"
  },
  "language_info": {
   "codemirror_mode": {
    "name": "ipython",
    "version": 3
   },
   "file_extension": ".py",
   "mimetype": "text/x-python",
   "name": "python",
   "nbconvert_exporter": "python",
   "pygments_lexer": "ipython3",
   "version": "3.8.5"
  }
 },
 "nbformat": 4,
 "nbformat_minor": 4
}
