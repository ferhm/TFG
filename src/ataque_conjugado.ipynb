{
 "cells": [
  {
   "cell_type": "code",
   "execution_count": 11,
   "metadata": {},
   "outputs": [],
   "source": [
    "from functools import *\n",
    "import random"
   ]
  },
  {
   "cell_type": "code",
   "execution_count": 12,
   "metadata": {},
   "outputs": [],
   "source": [
    "# Se le pasa una lista que define la permutación\n",
    "def pi_inverse(l):\n",
    "    n = len(l)\n",
    "    Bn = BraidGroup(n)\n",
    "    p = PermutationGroupElement(l)\n",
    "    ciclos = p.cycle_tuples()\n",
    "    b = Bn([1,-1])\n",
    "    \n",
    "    \n",
    "    # Descomponemos en transposiciones los ciclos\n",
    "    desc_trans = []\n",
    "    for i in range(len(ciclos)):\n",
    "        for j in range(len(ciclos[i])-1,0, -1):\n",
    "            desc_trans.append((ciclos[i][0], ciclos[i][j]))\n",
    "    \n",
    "    desc_trans_sim = []\n",
    "    for i in range(len(desc_trans)):\n",
    "        d = [(desc_trans[i][0],desc_trans[i][0]+1)]\n",
    "        for j in range(desc_trans[i][0]+1,desc_trans[i][1]):\n",
    "            d = [(j,j+1)] + d + [(j,j+1)]\n",
    "        desc_trans_sim = desc_trans_sim + d\n",
    "            \n",
    "    for i in range(len(desc_trans_sim)-1,-1,-1):          \n",
    "                b = b * Bn([desc_trans_sim[i][0]])\n",
    "\n",
    "        \n",
    "    return b\n",
    "    \n",
    "    "
   ]
  },
  {
   "cell_type": "code",
   "execution_count": 13,
   "metadata": {},
   "outputs": [],
   "source": [
    "def GuessPermutation(v,w,n):\n",
    "    Bn = BraidGroup(n)\n",
    "    Sn = SymmetricGroup(n)\n",
    "    t = [i+1 for i in range(n)]\n",
    "    \n",
    "    chi = [False for i in range(n)]   \n",
    "    for i in range(n,0,-1):\n",
    "        r = i\n",
    "        s = i\n",
    "        while not chi[r-1]:\n",
    "            chi[r-1] = True\n",
    "            pi_v = Sn(v.permutation())\n",
    "            #print(pi_v)\n",
    "            r = pi_v(r)\n",
    "            pi_w = Sn(w.permutation())\n",
    "            #print(pi_w)\n",
    "            s = pi_w(s)\n",
    "            if r != s:\n",
    "                t[r-1] = s\n",
    "            #print(t)\n",
    "    \n",
    "    \n",
    "    xi = [False for i in range(n)]\n",
    "    for i in range(n,0,-1):\n",
    "        if not xi[i-1]:\n",
    "            xi[i-1] = True\n",
    "            r=i\n",
    "            while (not xi[t[r-1]-1]) and (t[r-1] != r):\n",
    "                r = t[r-1]\n",
    "                xi[r-1] = True\n",
    "            t[r-1] = i\n",
    "    \n",
    "    print(t)\n",
    "            \n",
    "    return pi_inverse(t)\n",
    "            \n",
    "        \n",
    "    "
   ]
  },
  {
   "cell_type": "code",
   "execution_count": 14,
   "metadata": {},
   "outputs": [],
   "source": [
    "def order_cycles(l):\n",
    "    mov = True\n",
    "\n",
    "    while mov:\n",
    "        mov = False\n",
    "        for i in range(len(l)-1):\n",
    "            if len(l[i]) < len(l[i+1]):\n",
    "                aux = l[i]\n",
    "                l[i] = l[i+1]\n",
    "                l[i+1] = aux\n",
    "                mov = True\n",
    "    \n",
    "    return l"
   ]
  },
  {
   "cell_type": "code",
   "execution_count": 15,
   "metadata": {},
   "outputs": [],
   "source": [
    "def GuessPermutation(v,w,n):\n",
    "    vp = PermutationGroupElement(v.permutation()).cycle_tuples(singletons=True)\n",
    "    wp = PermutationGroupElement(w.permutation()).cycle_tuples(singletons=True)\n",
    "    \n",
    "    vp = order_cycles(vp)\n",
    "    wp = order_cycles(wp)\n",
    "    \n",
    "\n",
    "    \n",
    "    tau = [i for i in range(n)]\n",
    "    \n",
    "    for i in range(len(wp)):\n",
    "        for j in range(len(wp[i])):\n",
    "            tau[vp[i][j]-1] = wp[i][j]\n",
    "    print(tau)\n",
    "    return pi_inverse(tau)\n",
    "    "
   ]
  },
  {
   "cell_type": "code",
   "execution_count": 16,
   "metadata": {},
   "outputs": [],
   "source": [
    "def inf(b_normal,n):\n",
    "    Bn = BraidGroup(n)\n",
    "    alpha = Bn([1,-1])\n",
    "    delta = Bn.delta()\n",
    "    neutro = Bn([1,-1])\n",
    "\n",
    "    \n",
    "    rb = 0\n",
    "    \n",
    "    delta_r = b_normal[0]\n",
    "    while delta_r != neutro:\n",
    "        delta_r = delta_r*delta\n",
    "        rb = rb + 1\n",
    "    \n",
    "    return rb\n",
    "    "
   ]
  },
  {
   "cell_type": "code",
   "execution_count": 17,
   "metadata": {},
   "outputs": [],
   "source": [
    "def tauC(w,r,n):\n",
    "    Bn = BraidGroup(n)\n",
    "    delta = Bn.delta()\n",
    "    \n",
    "    return (delta^-r)*w*(delta^r)"
   ]
  },
  {
   "cell_type": "code",
   "execution_count": 18,
   "metadata": {},
   "outputs": [],
   "source": [
    "def compact(normal_form, n):\n",
    "    Bn = BraidGroup(n)\n",
    "    c = Bn([1,-1])\n",
    "    \n",
    "    for i in range(len(normal_form)):\n",
    "        c = c*normal_form[i]\n",
    "    \n",
    "    return c\n",
    "    \n"
   ]
  },
  {
   "cell_type": "code",
   "execution_count": 19,
   "metadata": {},
   "outputs": [],
   "source": [
    "def breakConjugate(v,w,n):\n",
    "    Bn = BraidGroup(n)\n",
    "    delta = Bn.delta()\n",
    "    alpha = Bn([1,-1])\n",
    "    v_normal = v.left_normal_form()\n",
    "    w_normal = w.left_normal_form()\n",
    "\n",
    "\n",
    "    \n",
    "    rw = inf(w_normal,n)\n",
    "    rv = inf(v_normal,n)\n",
    "    \n",
    "    while rw < rv:\n",
    "        gamma = delta*tauC(w_normal[1],rw,n)\n",
    "        alpha = gamma*alpha\n",
    "        w = gamma*compact(w_normal,n)*(gamma^-1)\n",
    "        w_normal = w.left_normal_form()\n",
    "        rw = inf(w_normal,n)\n",
    "\n",
    "    \n",
    "    sw = len(w_normal)-1 + inf(w_normal,n)\n",
    "    sv = len(v_normal)-1 + inf(v_normal,n)\n",
    "    \n",
    "    while sw > sv:\n",
    "        gamma = w_normal[len(w_normal)-1]\n",
    "        alpha = gamma*alpha\n",
    "        w = gamma*compact(w_normal,n)*(gamma^-1)\n",
    "        w_normal = w.left_normal_form()\n",
    "        sw = len(w_normal)-1 + inf(w_normal,n)\n",
    "    \n",
    "    v = compact(v_normal,n)\n",
    "    w = compact(w_normal,n)\n",
    "    mu = GuessPermutation(v,w,n)\n",
    "    alpha = mu*alpha\n",
    "    w = mu*w*(mu^-1)\n",
    "    \n",
    "    if v == w:\n",
    "        return alpha\n",
    "    else:\n",
    "        return \"failed\"\n",
    "        \n",
    "        \n",
    "        \n",
    "    \n",
    "    \n",
    "    \n",
    "    \n",
    "    "
   ]
  },
  {
   "cell_type": "code",
   "execution_count": 20,
   "metadata": {
    "scrolled": true
   },
   "outputs": [
    {
     "name": "stdout",
     "output_type": "stream",
     "text": [
      "[1, 2, 4, 3, 5]\n",
      "True\n",
      "s2*s0*s1*s2*s1*s0*s3*s2*s0*s1*s2*s3\n",
      "(s0^-1*s1^-1*s2^-1*s3^-1*s0^-1*s1^-1*s2^-1*s0^-1*s1^-1*s0^-1, s0*s1*s2*s1*s0*s3*s2*s1*s0, s1*s0*s2, s0*s1*s2*s3)\n",
      "(s0^-1*s1^-1*s2^-1*s3^-1*s0^-1*s1^-1*s2^-1*s0^-1*s1^-1*s0^-1, s0*s1*s2*s1*s0*s3*s2*s1*s0, s1*s0*s2, s0*s1*s2*s3)\n"
     ]
    }
   ],
   "source": [
    "Bn = BraidGroup(5)\n",
    "v = Bn([3,3,2,4,1,2])\n",
    "x = Bn([3,1,4,2,3,4])\n",
    "w = (x^-1)*v*x\n",
    "conjugator = breakConjugate(v,w,5)\n",
    "print(w == conjugator^-1*v*conjugator)\n",
    "print(conjugator)\n",
    "print(w.left_normal_form())\n",
    "print((conjugator^-1*v*conjugator).left_normal_form())"
   ]
  }
 ],
 "metadata": {
  "kernelspec": {
   "display_name": "SageMath 9.2",
   "language": "sage",
   "name": "sagemath"
  },
  "language_info": {
   "codemirror_mode": {
    "name": "ipython",
    "version": 3
   },
   "file_extension": ".py",
   "mimetype": "text/x-python",
   "name": "python",
   "nbconvert_exporter": "python",
   "pygments_lexer": "ipython3",
   "version": "3.8.5"
  }
 },
 "nbformat": 4,
 "nbformat_minor": 4
}
