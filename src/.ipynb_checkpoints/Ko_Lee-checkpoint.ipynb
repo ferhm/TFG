{
 "cells": [
  {
   "cell_type": "code",
   "execution_count": 12,
   "metadata": {},
   "outputs": [],
   "source": [
    "from functools import *\n",
    "import random\n",
    "import timeit"
   ]
  },
  {
   "cell_type": "code",
   "execution_count": 27,
   "metadata": {},
   "outputs": [],
   "source": [
    "class Ko_Lee:\n",
    "    def __init__(self, n, public_key, length):\n",
    "        self.n = n\n",
    "        self.length = length\n",
    "        self.Bn = BraidGroup(n)\n",
    "        self.public_key = public_key\n",
    "        \n",
    "    @classmethod\n",
    "    def generate_public_key(cls, n, length):\n",
    "        Bn = BraidGroup(n)\n",
    "        index_generators = list(range(-1*(n)+1, n))\n",
    "        index_generators.remove(0)\n",
    "        return Bn(random.choices(index_generators, k = 12*length))\n",
    "    \n",
    "    def generate_private_key(self, member):\n",
    "        m = self.n//2\n",
    "        index_generators_sub = [];\n",
    "        \n",
    "        if member == 0:\n",
    "            index_generators_sub = list(range(1, m)) + list(range(-m+1, 0))\n",
    "        else:\n",
    "            index_generators_sub = list(range(m+1, self.n)) + list(range(-self.n+1, -m))\n",
    "        \n",
    "        self.private_key = self.Bn(random.choices(index_generators_sub, k = 12*self.length))\n",
    "    \n",
    "    def message(self):\n",
    "        return self.lnf(self.private_key*self.public_key*(self.private_key^-1))\n",
    "    \n",
    "    def commonKey(self, message):\n",
    "        return self.lnf(self.private_key*message*(self.private_key^-1))\n",
    "    \n",
    "    def lnf(self,braid):\n",
    "        normal = self.Bn([1,-1])\n",
    "        tup = braid.left_normal_form()\n",
    "\n",
    "        for i in range(len(tup)):\n",
    "            normal = normal*tup[i]\n",
    "        \n",
    "        return normal\n",
    "        \n",
    "\n",
    "        "
   ]
  },
  {
   "cell_type": "code",
   "execution_count": 28,
   "metadata": {},
   "outputs": [],
   "source": [
    "def measure(i,j, iterations):\n",
    "    m = []\n",
    "    for k in range(iterations):\n",
    "        start = timeit.default_timer()\n",
    "        pK = Ko_Lee.generate_public_key(i,j)\n",
    "        A = Ko_Lee(i, pK, j)\n",
    "        B = Ko_Lee(i, pK, j)\n",
    "        A.generate_private_key(0)\n",
    "        B.generate_private_key(1)\n",
    "        aM = A.message()\n",
    "        bM = B.message()\n",
    "        commonKeyA = A.commonKey(bM)\n",
    "        end = timeit.default_timer()\n",
    "        commonKeyB = B.commonKey(aM)\n",
    "        m.append(end-start)\n",
    "        if (end-start) > 300:\n",
    "            break\n",
    "    \n",
    "    return len(m), mean(m), std(m), min(m), max(m), commonKeyA == commonKeyB"
   ]
  },
  {
   "cell_type": "code",
   "execution_count": 29,
   "metadata": {},
   "outputs": [],
   "source": [
    "def test(n_min,m_max,n_s,l_min,l_max,l_s):\n",
    "    print(\"size_sample  n    l    time                std               min               max           success\")\n",
    "    for i in range(n_min,m_max,n_s):\n",
    "        for j in range(l_min,l_max,l_s):\n",
    "            s, t, st, minimo, maximo, success = measure(i,j,3)\n",
    "            print(s, \"  \", i,\"  \",j,\"  \", t,\"  \", st, \"  \", minimo,\"  \",maximo,\"  \", success)\n",
    "            "
   ]
  },
  {
   "cell_type": "code",
   "execution_count": 30,
   "metadata": {},
   "outputs": [],
   "source": [
    "random.seed(10)"
   ]
  },
  {
   "cell_type": "code",
   "execution_count": 31,
   "metadata": {},
   "outputs": [
    {
     "name": "stdout",
     "output_type": "stream",
     "text": [
      "size_sample  n    l    time                std               min               max           success\n",
      "3    6    1    0.28465593033327724    0.18360586093615622    0.11435679199985316    0.4791662089996862    True\n",
      "3    6    2    0.7613847733333993    0.5428938549999199    0.2188101070000812    1.3045972549998623    True\n",
      "3    6    3    1.855847913666518    0.10082390880627791    1.7629692409996096    1.9630788999998003    True\n",
      "3    6    4    5.285154003000116    1.8962315118052873    3.2628170170000885    7.023171024000021    True\n",
      "3    7    1    0.3482366970000233    0.2624519093560348    0.10975607499995021    0.629422212999998    True\n",
      "3    7    2    1.551242621333131    0.27826981982783094    1.2345488239998303    1.756630689999838    True\n",
      "3    7    3    4.341523413999918    2.767949520696597    1.726716113999828    7.240665622000051    True\n",
      "3    7    4    3.1708752979999795    1.0641174850387023    2.0020052419999956    4.083415668999805    True\n",
      "3    8    1    0.8943150536667114    0.4608222818595501    0.6023942090000673    1.4255595800000265    True\n",
      "3    8    2    1.4898224176666492    0.14440524620815262    1.3252678859998923    1.5954284149997875    True\n",
      "3    8    3    5.751945953333386    2.5064735856074747    4.276285223000286    8.645983379999961    True\n",
      "3    8    4    9.406792130000062    3.855889195553997    5.011385911000161    12.21946240599982    True\n",
      "3    9    1    0.8606254176664455    0.34569542639530976    0.4803643639997972    1.1559057239996946    True\n",
      "3    9    2    3.7560940343334246    2.0259527722334396    2.347560840999904    6.0779237110000395    True\n",
      "3    9    3    12.571540627999942    0.9780559351892381    11.660772232999989    13.60525787000006    True\n",
      "3    9    4    17.975402113333075    5.887969360655902    13.075317609999729    24.50711829699958    True\n"
     ]
    }
   ],
   "source": [
    "test(6,10,1,1,5,1)"
   ]
  },
  {
   "cell_type": "code",
   "execution_count": 23,
   "metadata": {},
   "outputs": [
    {
     "name": "stdout",
     "output_type": "stream",
     "text": [
      "s0^-2*s1^-1*s2*s4^-1*s0\n"
     ]
    }
   ],
   "source": [
    "pK = Koo_Lee.generate_public_key(6)\n",
    "print(pK)"
   ]
  },
  {
   "cell_type": "code",
   "execution_count": 24,
   "metadata": {
    "scrolled": true
   },
   "outputs": [],
   "source": [
    "A = Koo_Lee(6, pK)\n",
    "B = Koo_Lee(6, pK)"
   ]
  },
  {
   "cell_type": "code",
   "execution_count": 25,
   "metadata": {},
   "outputs": [],
   "source": [
    "A.generate_private_key(0)\n",
    "B.generate_private_key(1)"
   ]
  },
  {
   "cell_type": "code",
   "execution_count": 27,
   "metadata": {},
   "outputs": [],
   "source": [
    "aM = A.message()\n",
    "bM = B.message()"
   ]
  },
  {
   "cell_type": "code",
   "execution_count": 28,
   "metadata": {},
   "outputs": [],
   "source": [
    "ack = A.commonKey(bM)\n",
    "bck = B.commonKey(aM)"
   ]
  },
  {
   "cell_type": "code",
   "execution_count": 29,
   "metadata": {},
   "outputs": [
    {
     "name": "stdout",
     "output_type": "stream",
     "text": [
      "(s0^-1*s1^-1*s2^-1*s3^-1*s4^-1*s0^-1*s1^-1*s2^-1*s3^-1*s0^-1*s1^-1*s2^-1*s0^-1*s1^-1*s0^-1)^4*s0^-1*s1^-1*s2^-1*s3^-1*s4^-1*s0^-1*s4*s3*s2*s1^2*s2*s1*s0*s3*s2*s1*s0*s4*s3*s2*s1^2*s0*s2*s1*s0*s3*s2*s1*s4*s3*s2*s1*s0^2*s2*s1*s0*s3*s2*s1*s0*s4*s3*s2*s1^2*s2*s1*s0*s3*s2*s1*s0*s4*s3*s0*s3*s4*s3*s2*(s1*s0)^2*s4*s0*s1*s4\n",
      "(s0^-1*s1^-1*s2^-1*s3^-1*s4^-1*s0^-1*s1^-1*s2^-1*s3^-1*s0^-1*s1^-1*s2^-1*s0^-1*s1^-1*s0^-1)^4*s0^-1*s1^-1*s2^-1*s3^-1*s4^-1*s0^-1*s4*s3*s2*s1^2*s2*s1*s0*s3*s2*s1*s0*s4*s3*s2*s1^2*s0*s2*s1*s0*s3*s2*s1*s4*s3*s2*s1*s0^2*s2*s1*s0*s3*s2*s1*s0*s4*s3*s2*s1^2*s2*s1*s0*s3*s2*s1*s0*s4*s3*s0*s3*s4*s3*s2*(s1*s0)^2*s4*s0*s1*s4\n",
      "True\n"
     ]
    }
   ],
   "source": [
    "print(ack)\n",
    "print(bck)\n",
    "print(ack==bck)"
   ]
  },
  {
   "cell_type": "code",
   "execution_count": 11,
   "metadata": {
    "scrolled": true
   },
   "outputs": [
    {
     "data": {
      "text/plain": [
       "((s0^-1*s1^-1*s2^-1*s3^-1*s4^-1*s5^-1*s6^-1*s7^-1*s8^-1*s0^-1*s1^-1*s2^-1*s3^-1*s4^-1*s5^-1*s6^-1*s7^-1*s0^-1*s1^-1*s2^-1*s3^-1*s4^-1*s5^-1*s6^-1*s0^-1*s1^-1*s2^-1*s3^-1*s4^-1*s5^-1*s0^-1*s1^-1*s2^-1*s3^-1*s4^-1*s0^-1*s1^-1*s2^-1*s3^-1*s0^-1*s1^-1*s2^-1*s0^-1*s1^-1*s0^-1)^5,\n",
       " s1*s2*s1*s3*s4*s3*s2*s1*s0*s5*s4*s3*s2*s1*s0*s6*s5*s4*s3*s2*s1*s7*s6*s5*s4*s3*s2*s1*s0*s8*s7*s6*s5*s4*s3*s2*s1*s0,\n",
       " s1*s0*s2*s1*s3*s2*s1*s0*s4*s3*s2*s1*s0*s5*s4*s3*s2*s1*s6*s5*s4*s3*s2*s1*s0*s7*s6*s5*s4*s3*s2*s8*s7*s6*s5*s4,\n",
       " s0*s1*s2*s1*s0*s5*s6*s7*s6*s5*s4*s3*s2*s1*s0*s8*s7*s6*s5*s4*s3*s2*s1,\n",
       " s4*s3*s5*s6*s8*s7*s6*s5*s4*s3*s2*s1*s0,\n",
       " s0*s1*s4*s3*s5*s4*s6*s7*s6*s5*s4*s3,\n",
       " s3*s2*s1*s0*s4*s3*s2*s1*s5*s4*s3*s2*s1*s0*s6*s5*s4*s3*s2*s1*s7*s6*s5*s4*s3*s8*s7*s6*s5,\n",
       " s1*s2*s3*s2*s1*s4*s3*s5*s4*s3*s2*s1*s0*s6*s5*s4*s3*s2*s1*s7*s6*s5*s4*s3*s2*s8*s7*s6*s5*s4*s3,\n",
       " s5*s8,\n",
       " s5*s4*s6*s8*s7*s6*s5*s4,\n",
       " s5*s6*s7*s6*s5*s8*s7*s6,\n",
       " s6*s5*s4*s3*s7*s6*s5*s8*s7*s6,\n",
       " s3*s4*s6)"
      ]
     },
     "execution_count": 11,
     "metadata": {},
     "output_type": "execute_result"
    }
   ],
   "source": [
    "n=10\n",
    "Bn = BraidGroup(n)\n",
    "index_generators = list(range(-1*(n)+1, n))\n",
    "index_generators.remove(0)\n",
    "trenza = Bn(random.choices(index_generators, k = 12*5))\n",
    "trenza.left_normal_form()"
   ]
  }
 ],
 "metadata": {
  "kernelspec": {
   "display_name": "SageMath 9.2",
   "language": "sage",
   "name": "sagemath"
  },
  "language_info": {
   "codemirror_mode": {
    "name": "ipython",
    "version": 3
   },
   "file_extension": ".py",
   "mimetype": "text/x-python",
   "name": "python",
   "nbconvert_exporter": "python",
   "pygments_lexer": "ipython3",
   "version": "3.8.5"
  }
 },
 "nbformat": 4,
 "nbformat_minor": 4
}
