{
 "cells": [
  {
   "cell_type": "code",
   "execution_count": 61,
   "metadata": {},
   "outputs": [],
   "source": [
    "from functools import *\n",
    "import random"
   ]
  },
  {
   "cell_type": "code",
   "execution_count": 112,
   "metadata": {
    "scrolled": true
   },
   "outputs": [
    {
     "data": {
      "text/plain": [
       "(s0, s1, s2, s3, s4)"
      ]
     },
     "execution_count": 112,
     "metadata": {},
     "output_type": "execute_result"
    }
   ],
   "source": [
    "p = BraidGroup(6,'s')\n",
    "p.gens()"
   ]
  },
  {
   "cell_type": "code",
   "execution_count": 113,
   "metadata": {
    "scrolled": true
   },
   "outputs": [
    {
     "name": "stdout",
     "output_type": "stream",
     "text": [
      "True\n"
     ]
    }
   ],
   "source": [
    "a = p([1,3])\n",
    "b = p([3,1])\n",
    "\n",
    "print(a==b)"
   ]
  },
  {
   "cell_type": "code",
   "execution_count": 114,
   "metadata": {},
   "outputs": [],
   "source": [
    "class AnshelAnshelGoldfeld:\n",
    "    \n",
    "    def __init__(self, n, keyLength):\n",
    "        self.n = n\n",
    "        self.Bn = BraidGroup(n)\n",
    "        self.keyLength = keyLength\n",
    "        \n",
    "        index_public_key = list(range(-1*(self.keyLength), self.keyLength+1))\n",
    "        index_public_key.remove(0)\n",
    "        self.funcA = random.choices(index_public_key, k = random.randint(5,10))\n",
    "        self.funcB = random.choices(index_public_key, k = random.randint(5,10))\n",
    "        \n",
    "        self.generatePublicKey()\n",
    "        self.generatePrivateKey()\n",
    "        self.messages()\n",
    "        \n",
    "    \n",
    "    def generatePublicKey(self):\n",
    "        self.publicKeyA = []\n",
    "        self.publicKeyB = []\n",
    "        index_generators = list(range(-1*(self.n-1), self.n))\n",
    "        index_generators.remove(0)\n",
    "        \n",
    "        for i in range(self.keyLength):\n",
    "            randomList = random.choices(index_generators, k = random.randint(5,10))\n",
    "            self.publicKeyA.append(self.Bn(randomList))\n",
    "        \n",
    "        for i in range(self.keyLength):\n",
    "            randomList = random.choices(index_generators, k = random.randint(5,10))\n",
    "            self.publicKeyB.append(self.Bn(randomList))\n",
    "            \n",
    "    def keyFunction(self, f, l):\n",
    "        key = self.Bn([1,-1])\n",
    "        #print(\"Lista: \", f)\n",
    "        for i in f:\n",
    "            if i > 0:\n",
    "                aux = l[i-1]\n",
    "            else:\n",
    "                aux = (l[-1*i-1]^-1)\n",
    "            \n",
    "            key = key * aux\n",
    "\n",
    "            #print(\"Llave en construccion: \", key)\n",
    "            #print(\"Elemento: \", aux)\n",
    "                \n",
    "        return key\n",
    "            \n",
    "    def generatePrivateKey(self):\n",
    "        self.privateKeyA = self.keyFunction(self.funcA, self.publicKeyA)\n",
    "        self.privateKeyB = self.keyFunction(self.funcB, self.publicKeyB)\n",
    "        \n",
    "    def messages(self):\n",
    "        self.messageA = []\n",
    "        self.messageB = []\n",
    "        \n",
    "        for t in self.publicKeyA:\n",
    "            self.messageB.append(self.privateKeyB*t*(self.privateKeyB^-1))\n",
    "        \n",
    "        for t in self.publicKeyB:\n",
    "            self.messageA.append(self.privateKeyA*t*(self.privateKeyA^-1))\n",
    "    \n",
    "    def commonKey(self):\n",
    "        keyA = self.privateKeyA*(self.keyFunction(self.funcA, self.messageB)^-1)\n",
    "        keyB = self.privateKeyB*(self.keyFunction(self.funcB, self.messageA)^-1)\n",
    "        \n",
    "        return keyA,keyB\n",
    "        \n",
    "        "
   ]
  },
  {
   "cell_type": "code",
   "execution_count": 115,
   "metadata": {
    "scrolled": true
   },
   "outputs": [],
   "source": [
    "A = AnshelAnshelGoldfeld(6,4)"
   ]
  },
  {
   "cell_type": "code",
   "execution_count": 103,
   "metadata": {
    "scrolled": true
   },
   "outputs": [
    {
     "name": "stdout",
     "output_type": "stream",
     "text": [
      "[s4*s2^-1*s3*s4*s1*s0*s4*s1, s0^-1*s2^-1*s3*s2^-2, s0*s1^-1*s0^-1*s2^-2*s3, s0*s2^-1*s3^-1]\n",
      "[s1^-1*s3*s2*s0*s2*s3, s2*s1^-1*s3*s0*s1^-1, s1^-1*s0^-2, s2^-1*s0^-1*s1*s4*s2*s1*s3]\n",
      "[1, -4, 1, -3, -1]\n",
      "[4, 2, -1, -3, 1, -1, -3, 3, -4, -2]\n",
      "s4*s2^-1*s3*s4*s1*s0*s4*s1*s3*s2*s0^-1*s4*s2^-1*s3*s4*s1*s0*s4*s1*s3^-1*s2^2*s0*s1*(s0^-1*s1^-1*s4^-1)^2*s3^-1*s2*s4^-1\n",
      "s2^-1*s0^-1*s1*s4*s2*s1*s3*s2*s1^-1*s3*s0*s1^-1*s3^-1*s2^-1*s0^-1*s2^-1*s3^-1*s1*s0^2*s1*s3^-1*s1^-1*s2^-1*s4^-1*s1^-1*s0*s2*s1*s0^-1*s3^-1*s1*s2^-1\n",
      "[s4*s2^-1*s3*s4*s1*s0*s4*s1*s3*s2*s0^-1*s4*s2^-1*s3*s4*s1*s0*s4*s1*s3^-1*s2^2*s0*s1*(s0^-1*s1^-1*s4^-1)^2*s3^-1*s2*s4^-1*s1^-1*s3*s2*s0*s2*s3*s4*s2^-1*s3*(s4*s1*s0)^2*s1^-1*s0^-1*s2^-2*s3*s1^-1*s4^-1*s0^-1*s1^-1*s4^-1*s3^-1*s2*s4^-1*s0*s2^-1*s3^-1*s1^-1*s4^-1*s0^-1*s1^-1*s4^-1*s3^-1*s2*s4^-1, s4*s2^-1*s3*s4*s1*s0*s4*s1*s3*s2*s0^-1*s4*s2^-1*s3*s4*s1*s0*s4*s1*s3^-1*s2^2*s0*s1*(s0^-1*s1^-1*s4^-1)^2*s3^-1*s2*s4^-1*s2*s1^-1*s3*s0*s1^-1*s4*s2^-1*s3*(s4*s1*s0)^2*s1^-1*s0^-1*s2^-2*s3*s1^-1*s4^-1*s0^-1*s1^-1*s4^-1*s3^-1*s2*s4^-1*s0*s2^-1*s3^-1*s1^-1*s4^-1*s0^-1*s1^-1*s4^-1*s3^-1*s2*s4^-1, s4*s2^-1*s3*s4*s1*s0*s4*s1*s3*s2*s0^-1*s4*s2^-1*s3*s4*s1*s0*s4*s1*s3^-1*s2^2*s0*s1*(s0^-1*s1^-1*s4^-1)^2*s3^-1*s2*s4^-1*s1^-1*s0^-2*s4*s2^-1*s3*(s4*s1*s0)^2*s1^-1*s0^-1*s2^-2*s3*s1^-1*s4^-1*s0^-1*s1^-1*s4^-1*s3^-1*s2*s4^-1*s0*s2^-1*s3^-1*s1^-1*s4^-1*s0^-1*s1^-1*s4^-1*s3^-1*s2*s4^-1, s4*s2^-1*s3*s4*s1*s0*s4*s1*s3*s2*s0^-1*s4*s2^-1*s3*s4*s1*s0*s4*s1*s3^-1*s2^2*s0*s1*(s0^-1*s1^-1*s4^-1)^2*s3^-1*s2*s4^-1*s2^-1*s0^-1*s1*s4*s2*s1*s3*s4*s2^-1*s3*(s4*s1*s0)^2*s1^-1*s0^-1*s2^-2*s3*s1^-1*s4^-1*s0^-1*s1^-1*s4^-1*s3^-1*s2*s4^-1*s0*s2^-1*s3^-1*s1^-1*s4^-1*s0^-1*s1^-1*s4^-1*s3^-1*s2*s4^-1]\n",
      "[s2^-1*s0^-1*s1*s4*s2*s1*s3*s2*s1^-1*s3*s0*s1^-1*s3^-1*s2^-1*s0^-1*s2^-1*s3^-1*s1*s0^2*s1*s3^-1*s1^-1*s2^-1*s4^-1*s1^-1*s0*s2*s1*s0^-1*s3^-1*s1*s2^-1*s4*s2^-1*s3*s4*s1*s0*s4*s1*s2*s1^-1*s3*s0*s1^-1*s2^-1*s0^-1*s1*s4*s2*s1*s3*s1^-1*s0^-2*s1^-1*s3*s2*s0*s2*s3*s1*s0^-1*s3^-1*s1*s2^-1*s3^-1*s1^-1*s2^-1*s4^-1*s1^-1*s0*s2, s2^-1*s0^-1*s1*s4*s2*s1*s3*s2*s1^-1*s3*s0*s1^-1*s3^-1*s2^-1*s0^-1*s2^-1*s3^-1*s1*s0^2*s1*s3^-1*s1^-1*s2^-1*s4^-1*s1^-1*s0*s2*s1*s0^-1*s3^-1*s1*s2^-1*s0^-1*s2^-1*s3*s2^-1*s1^-1*s3*s0*s1^-1*s2^-1*s0^-1*s1*s4*s2*s1*s3*s1^-1*s0^-2*s1^-1*s3*s2*s0*s2*s3*s1*s0^-1*s3^-1*s1*s2^-1*s3^-1*s1^-1*s2^-1*s4^-1*s1^-1*s0*s2, s2^-1*s0^-1*s1*s4*s2*s1*s3*s2*s1^-1*s3*s0*s1^-1*s3^-1*s2^-1*s0^-1*s2^-1*s3^-1*s1*s0^2*s1*s3^-1*s1^-1*s2^-1*s4^-1*s1^-1*s0*s2*s1*s0^-1*s3^-1*s1*s2^-1*s0*s1^-1*s0^-1*s2^-2*s3*s2*s1^-1*s3*s0*s1^-1*s2^-1*s0^-1*s1*s4*s2*s1*s3*s1^-1*s0^-2*s1^-1*s3*s2*s0*s2*s3*s1*s0^-1*s3^-1*s1*s2^-1*s3^-1*s1^-1*s2^-1*s4^-1*s1^-1*s0*s2, s2^-1*s0^-1*s1*s4*s2*s1*s3*s2*s1^-1*s3*s0*s1^-1*s3^-1*s2^-1*s0^-1*s2^-1*s3^-1*s1*s0^2*s1*s3^-1*s1^-1*s2^-1*s4^-1*s1^-1*s0*s2*s1*s0^-1*s3^-1*s1*s2^-1*s0*s2^-1*s3^-1*s2*s1^-1*s3*s0*s1^-1*s2^-1*s0^-1*s1*s4*s2*s1*s3*s1^-1*s0^-2*s1^-1*s3*s2*s0*s2*s3*s1*s0^-1*s3^-1*s1*s2^-1*s3^-1*s1^-1*s2^-1*s4^-1*s1^-1*s0*s2]\n"
     ]
    }
   ],
   "source": [
    "print(A.publicKeyA)\n",
    "print(A.publicKeyB)\n",
    "print(A.funcA)\n",
    "print(A.funcB)\n",
    "print(A.privateKeyA)\n",
    "print(A.privateKeyB)\n",
    "print(A.messageA)\n",
    "print(A.messageB)"
   ]
  },
  {
   "cell_type": "code",
   "execution_count": 104,
   "metadata": {
    "scrolled": false
   },
   "outputs": [
    {
     "name": "stdout",
     "output_type": "stream",
     "text": [
      "Lista:  [1, -4, 1, -3, -1]\n",
      "Llave en construccion:  s4*s2^-1*s3*s4*s1*s0*s4*s1\n",
      "Elemento:  s4*s2^-1*s3*s4*s1*s0*s4*s1\n",
      "Llave en construccion:  s4*s2^-1*s3*s4*s1*s0*s4*s1*s3*s2*s0^-1\n",
      "Elemento:  s3*s2*s0^-1\n",
      "Llave en construccion:  s4*s2^-1*s3*s4*s1*s0*s4*s1*s3*s2*s0^-1*s4*s2^-1*s3*s4*s1*s0*s4*s1\n",
      "Elemento:  s4*s2^-1*s3*s4*s1*s0*s4*s1\n",
      "Llave en construccion:  s4*s2^-1*s3*s4*s1*s0*s4*s1*s3*s2*s0^-1*s4*s2^-1*s3*s4*s1*s0*s4*s1*s3^-1*s2^2*s0*s1*s0^-1\n",
      "Elemento:  s3^-1*s2^2*s0*s1*s0^-1\n",
      "Llave en construccion:  s4*s2^-1*s3*s4*s1*s0*s4*s1*s3*s2*s0^-1*s4*s2^-1*s3*s4*s1*s0*s4*s1*s3^-1*s2^2*s0*s1*(s0^-1*s1^-1*s4^-1)^2*s3^-1*s2*s4^-1\n",
      "Elemento:  s1^-1*s4^-1*s0^-1*s1^-1*s4^-1*s3^-1*s2*s4^-1\n"
     ]
    },
    {
     "data": {
      "text/plain": [
       "s4*s2^-1*s3*s4*s1*s0*s4*s1*s3*s2*s0^-1*s4*s2^-1*s3*s4*s1*s0*s4*s1*s3^-1*s2^2*s0*s1*(s0^-1*s1^-1*s4^-1)^2*s3^-1*s2*s4^-1"
      ]
     },
     "execution_count": 104,
     "metadata": {},
     "output_type": "execute_result"
    }
   ],
   "source": [
    "A.keyFunction(A.funcA, A.publicKeyA)"
   ]
  },
  {
   "cell_type": "code",
   "execution_count": 118,
   "metadata": {
    "scrolled": false
   },
   "outputs": [],
   "source": [
    "h,k = A.commonKey()"
   ]
  },
  {
   "cell_type": "code",
   "execution_count": 121,
   "metadata": {},
   "outputs": [
    {
     "data": {
      "text/plain": [
       "False"
      ]
     },
     "execution_count": 121,
     "metadata": {},
     "output_type": "execute_result"
    }
   ],
   "source": [
    "h==k"
   ]
  }
 ],
 "metadata": {
  "kernelspec": {
   "display_name": "SageMath 9.2",
   "language": "sage",
   "name": "sagemath"
  },
  "language_info": {
   "codemirror_mode": {
    "name": "ipython",
    "version": 3
   },
   "file_extension": ".py",
   "mimetype": "text/x-python",
   "name": "python",
   "nbconvert_exporter": "python",
   "pygments_lexer": "ipython3",
   "version": "3.8.5"
  }
 },
 "nbformat": 4,
 "nbformat_minor": 4
}
