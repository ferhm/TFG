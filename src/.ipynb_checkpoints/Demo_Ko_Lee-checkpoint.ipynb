{
 "cells": [
  {
   "cell_type": "code",
   "execution_count": 7,
   "metadata": {},
   "outputs": [],
   "source": [
    "from functools import *\n",
    "import random\n",
    "import timeit"
   ]
  },
  {
   "cell_type": "code",
   "execution_count": 13,
   "metadata": {},
   "outputs": [],
   "source": [
    "class Ko_Lee:\n",
    "    def __init__(self, n, public_key, length):\n",
    "        self.n = n\n",
    "        self.length = length\n",
    "        self.Bn = BraidGroup(n)\n",
    "        self.public_key = public_key\n",
    "        \n",
    "    @classmethod\n",
    "    def generate_public_key(cls, n, length):\n",
    "        Bn = BraidGroup(n)\n",
    "        index_generators = list(range(-1*(n)+1, n))\n",
    "        index_generators.remove(0)\n",
    "        return Bn(random.choices(index_generators, k = length))\n",
    "    \n",
    "    def generate_private_key(self, member):\n",
    "        m = self.n//2\n",
    "        index_generators_sub = [];\n",
    "        \n",
    "        if member == 0:\n",
    "            index_generators_sub = list(range(1, m)) + list(range(-m+1, 0))\n",
    "        else:\n",
    "            index_generators_sub = list(range(m+1, self.n)) + list(range(-self.n+1, -m))\n",
    "        \n",
    "        self.private_key = self.Bn(random.choices(index_generators_sub, k = self.length))\n",
    "    \n",
    "    def message(self):\n",
    "        return self.lnf(self.private_key*self.public_key*(self.private_key^-1))\n",
    "    \n",
    "    def commonKey(self, message):\n",
    "        return self.lnf(self.private_key*message*(self.private_key^-1))\n",
    "    \n",
    "    def lnf(self,braid):\n",
    "        normal = self.Bn([1,-1])\n",
    "        tup = braid.left_normal_form()\n",
    "\n",
    "        for i in range(len(tup)):\n",
    "            normal = normal*tup[i]\n",
    "        \n",
    "        return normal\n",
    "        \n",
    "\n",
    "        "
   ]
  },
  {
   "cell_type": "markdown",
   "metadata": {},
   "source": [
    "Generamos una llave pública $p\\in B_6$."
   ]
  },
  {
   "cell_type": "code",
   "execution_count": 15,
   "metadata": {},
   "outputs": [
    {
     "name": "stdout",
     "output_type": "stream",
     "text": [
      "s2*s1^-3*s2^-1\n"
     ]
    }
   ],
   "source": [
    "p = Ko_Lee.generate_public_key(6,5)\n",
    "print(p)"
   ]
  },
  {
   "cell_type": "code",
   "execution_count": 21,
   "metadata": {
    "scrolled": true
   },
   "outputs": [],
   "source": [
    "Alicia = Ko_Lee(6, p, 5)\n",
    "Bruno = Ko_Lee(6, p, 5)"
   ]
  },
  {
   "cell_type": "markdown",
   "metadata": {},
   "source": [
    "Alicia escoge como llave privada una trenza de $LB_6$ y calcula su conjugado $p'$."
   ]
  },
  {
   "cell_type": "code",
   "execution_count": 23,
   "metadata": {},
   "outputs": [
    {
     "name": "stdout",
     "output_type": "stream",
     "text": [
      "Llave privada Alicia:  s1^-1*s0^-2*s1*s0^-1\n",
      "Conjugado de Alicia:  (s0^-1*s1^-1*s2^-1*s3^-1*s4^-1*s0^-1*s1^-1*s2^-1*s3^-1*s0^-1*s1^-1*s2^-1*s0^-1*s1^-1*s0^-1)^4*s0^-1*s1^-1*s2^-1*s3^-1*s4^-1*s0^-1*s4*s3*s2*s1^2*s0*s2*s1*s0*s3*s2*s1*s0*s4*s3*s2*s1*s0^2*s1*s0*s2*s1*s0*s3*s2*s1*s0*s4*s3*(s0*s1*s0*s2*s1*s3*s2*s1*s0*s4*s3*s2*s1*s0)^2*s1*s0^3*s1\n"
     ]
    }
   ],
   "source": [
    "Alicia.generate_private_key(0)\n",
    "print(\"Llave privada Alicia: \", Alicia.private_key)\n",
    "conjugadoA = Alicia.message()\n",
    "print(\"Conjugado de Alicia: \", conjugadoA)"
   ]
  },
  {
   "cell_type": "markdown",
   "metadata": {},
   "source": [
    "Bruno escoge como llave privada una trenza de $UB_6$ y calcula su conjugado $p''$."
   ]
  },
  {
   "cell_type": "code",
   "execution_count": 24,
   "metadata": {},
   "outputs": [
    {
     "name": "stdout",
     "output_type": "stream",
     "text": [
      "Llave privada Bruno:  (s3^-1*s4^-1)^2*s4^-1\n",
      "Conjugado de Bruno:  (s0^-1*s1^-1*s2^-1*s3^-1*s4^-1*s0^-1*s1^-1*s2^-1*s3^-1*s0^-1*s1^-1*s2^-1*s0^-1*s1^-1*s0^-1)^3*s1*s2*s1*s0*s3*s2*(s4*s3*s2*s1*s0^2*s1*s0*s2*s1*s3*s2*s1*s0)^2*s4*s3*s2*s1*s0*s1*s3*s4\n"
     ]
    }
   ],
   "source": [
    "Bruno.generate_private_key(1)\n",
    "print(\"Llave privada Bruno: \", Bruno.private_key)\n",
    "conjugadoB = Bruno.message()\n",
    "print(\"Conjugado de Bruno: \", conjugadoB)"
   ]
  },
  {
   "cell_type": "markdown",
   "metadata": {},
   "source": [
    "Alicia calcula $t_A$."
   ]
  },
  {
   "cell_type": "code",
   "execution_count": 28,
   "metadata": {},
   "outputs": [
    {
     "name": "stdout",
     "output_type": "stream",
     "text": [
      "tA:  (s0^-1*s1^-1*s2^-1*s3^-1*s4^-1*s0^-1*s1^-1*s2^-1*s3^-1*s0^-1*s1^-1*s2^-1*s0^-1*s1^-1*s0^-1)^4*s0^-1*s1^-1*s2^-1*s3^-1*s4^-1*s0^-1*s4*s3*s2*s1^2*s0*s2*s1*s0*s3*s2*s1*s0*s4*s3*s2*s1*s0*s1*s2*s1*s0*s3*s2*s1*s0*s4*s3*(s0*s1*s0*s2*s1*s3*s2*s1*s0*s4*s3*s2*s1*s0)^2*s1*s0*s3*s4*s0^2*s1\n"
     ]
    }
   ],
   "source": [
    "tA = Alicia.commonKey(conjugadoB)\n",
    "print(\"tA: \", tA)"
   ]
  },
  {
   "cell_type": "markdown",
   "metadata": {},
   "source": [
    "Bruno calcula $t_B$."
   ]
  },
  {
   "cell_type": "code",
   "execution_count": 29,
   "metadata": {},
   "outputs": [
    {
     "name": "stdout",
     "output_type": "stream",
     "text": [
      "tB:  (s0^-1*s1^-1*s2^-1*s3^-1*s4^-1*s0^-1*s1^-1*s2^-1*s3^-1*s0^-1*s1^-1*s2^-1*s0^-1*s1^-1*s0^-1)^4*s0^-1*s1^-1*s2^-1*s3^-1*s4^-1*s0^-1*s4*s3*s2*s1^2*s0*s2*s1*s0*s3*s2*s1*s0*s4*s3*s2*s1*s0*s1*s2*s1*s0*s3*s2*s1*s0*s4*s3*(s0*s1*s0*s2*s1*s3*s2*s1*s0*s4*s3*s2*s1*s0)^2*s1*s0*s3*s4*s0^2*s1\n"
     ]
    }
   ],
   "source": [
    "tB = Bruno.commonKey(conjugadoA)\n",
    "print(\"tB: \", tB)"
   ]
  },
  {
   "cell_type": "code",
   "execution_count": 30,
   "metadata": {},
   "outputs": [
    {
     "name": "stdout",
     "output_type": "stream",
     "text": [
      "(s0^-1*s1^-1*s2^-1*s3^-1*s4^-1*s0^-1*s1^-1*s2^-1*s3^-1*s0^-1*s1^-1*s2^-1*s0^-1*s1^-1*s0^-1)^4*s0^-1*s1^-1*s2^-1*s3^-1*s4^-1*s0^-1*s4*s3*s2*s1^2*s0*s2*s1*s0*s3*s2*s1*s0*s4*s3*s2*s1*s0*s1*s2*s1*s0*s3*s2*s1*s0*s4*s3*(s0*s1*s0*s2*s1*s3*s2*s1*s0*s4*s3*s2*s1*s0)^2*s1*s0*s3*s4*s0^2*s1\n",
      "(s0^-1*s1^-1*s2^-1*s3^-1*s4^-1*s0^-1*s1^-1*s2^-1*s3^-1*s0^-1*s1^-1*s2^-1*s0^-1*s1^-1*s0^-1)^4*s0^-1*s1^-1*s2^-1*s3^-1*s4^-1*s0^-1*s4*s3*s2*s1^2*s0*s2*s1*s0*s3*s2*s1*s0*s4*s3*s2*s1*s0*s1*s2*s1*s0*s3*s2*s1*s0*s4*s3*(s0*s1*s0*s2*s1*s3*s2*s1*s0*s4*s3*s2*s1*s0)^2*s1*s0*s3*s4*s0^2*s1\n",
      "True\n"
     ]
    }
   ],
   "source": [
    "print(tA==tB)"
   ]
  }
 ],
 "metadata": {
  "kernelspec": {
   "display_name": "SageMath 9.2",
   "language": "sage",
   "name": "sagemath"
  },
  "language_info": {
   "codemirror_mode": {
    "name": "ipython",
    "version": 3
   },
   "file_extension": ".py",
   "mimetype": "text/x-python",
   "name": "python",
   "nbconvert_exporter": "python",
   "pygments_lexer": "ipython3",
   "version": "3.8.5"
  }
 },
 "nbformat": 4,
 "nbformat_minor": 4
}
