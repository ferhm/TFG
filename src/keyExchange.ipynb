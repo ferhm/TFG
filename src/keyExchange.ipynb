{
 "cells": [
  {
   "cell_type": "code",
   "execution_count": 1,
   "metadata": {},
   "outputs": [],
   "source": [
    "from functools import *\n",
    "import random"
   ]
  },
  {
   "cell_type": "code",
   "execution_count": 2,
   "metadata": {},
   "outputs": [],
   "source": [
    "class AnshelAnshelGoldfeld:\n",
    "    \n",
    "    def __init__(self, n, keyLength):\n",
    "        self.n = n\n",
    "        self.Bn = BraidGroup(n)\n",
    "        self.keyLength = keyLength\n",
    "        \n",
    "        index_public_key = list(range(-1*(self.keyLength), self.keyLength+1))\n",
    "        index_public_key.remove(0)\n",
    "        self.func = random.choices(index_public_key, k = random.randint(5,10))\n",
    "        \n",
    "        self.generatePublicKey()\n",
    "        self.generatePrivateKey()\n",
    "\n",
    "        \n",
    "    \n",
    "    def generatePublicKey(self):\n",
    "        self.publicKey = []\n",
    "        index_generators = list(range(-1*(self.n), self.n+1))\n",
    "        index_generators.remove(0)\n",
    "        \n",
    "        for i in range(self.keyLength):\n",
    "            randomList = random.choices(index_generators, k = random.randint(5,10))\n",
    "            self.publicKey.append(self.Bn(randomList))\n",
    "\n",
    "            \n",
    "    def keyFunction(self, f, l):\n",
    "        key = self.Bn([1,-1])\n",
    "\n",
    "        for i in f:\n",
    "            if i > 0:\n",
    "                aux = l[i-1]\n",
    "            else:\n",
    "                aux = (l[-1*i-1]^-1)\n",
    "            \n",
    "            key = key * aux\n",
    "\n",
    "        return key\n",
    "            \n",
    "    def generatePrivateKey(self):\n",
    "        self.privateKey = self.keyFunction(self.func, self.publicKey)\n",
    "        \n",
    "    def messages(self, publicKeyReceiver):\n",
    "        message = []\n",
    "        \n",
    "        for t in publicKeyReceiver:\n",
    "            message.append(self.lnf(self.privateKey*t*(self.privateKey^-1)))\n",
    "        \n",
    "        return message\n",
    "    \n",
    "    def commonKey(self, message, participant):\n",
    "        if(participant == 0):\n",
    "            key = self.privateKey*(self.keyFunction(self.func, message)^-1)\n",
    "        else:\n",
    "            key = self.keyFunction(self.func, message)*(self.privateKey^-1)\n",
    "\n",
    "        return self.lnf(key)\n",
    "    \n",
    "    def lnf(self,braid):\n",
    "        normal = self.Bn([1,-1])\n",
    "        tup = braid.left_normal_form()\n",
    "\n",
    "        for i in range(len(tup)):\n",
    "            normal = normal*tup[i]\n",
    "        \n",
    "        return normal\n",
    "        "
   ]
  },
  {
   "cell_type": "code",
   "execution_count": 3,
   "metadata": {},
   "outputs": [],
   "source": [
    "A = AnshelAnshelGoldfeld(6,4)\n",
    "B = AnshelAnshelGoldfeld(6,4)"
   ]
  },
  {
   "cell_type": "code",
   "execution_count": 4,
   "metadata": {},
   "outputs": [],
   "source": [
    "messageA = A.messages(B.publicKey)\n",
    "messageB = B.messages(A.publicKey)"
   ]
  },
  {
   "cell_type": "code",
   "execution_count": 5,
   "metadata": {},
   "outputs": [],
   "source": [
    "commonKeyA = A.commonKey(messageB, 0)\n",
    "commonKeyB = B.commonKey(messageA, 1)"
   ]
  },
  {
   "cell_type": "code",
   "execution_count": 8,
   "metadata": {
    "scrolled": false
   },
   "outputs": [
    {
     "name": "stdout",
     "output_type": "stream",
     "text": [
      "(s0^-1*s1^-1*s2^-1*s3^-1*s4^-1*s0^-1*s1^-1*s2^-1*s3^-1*s0^-1*s1^-1*s2^-1*s0^-1*s1^-1*s0^-1)^15*s1*s2*s3*s2*s1*s4*s3*s1*s0*s2*s3*s4*s3*s0*s1*s3*s2*s1*s0*s4*s3*s2*(s1*s0)^2*s2*s1*s3*s2*s1*s0*s4*s0*s1*s2*s1*s0*s3*s4*s3^2*s2*s1*s0*s4*s3*s2*s1*s0^2*s1*s0*s2*s1*s3*s4*s1*s0*s2*s1*s3*s1*s2*s3*s2*s4*s2*(s1*s3)^2*s2*s1*s0*s4*s3*s2*s1^2*s2*s3*s2*s1*s4*s3^2*s2^2*s1*s0*s3*s2^2*s1*s3*s1*s0*s2*s1*s3*s2*s1*s4*s1*(s0*s2*s1*s0*s3*s4*s3*s2*s1*s0)^2*s0*s1*s0*s2*s1^2*s2*s1*s0*s3*s2*s1*s4*s3*s1*s0*s2*s3*s4*s3*s0*s3*s4*s3*s2^2*s1*s0*s3*s2*s1*s4*s3*s2*s1*s0^2*s1*s2*s1*s0*s3*s2*s4*s0*s2*s1*s0*s3*s4*s3*s2*s1*s0^2*s1*s2*s1*s0*s3*s2*s4*s3*s2*s1*s0^2*s1*s0*s2*s1*s3*s2*s1*s4*s3*s2*s1*s0*s2*s4*s3*s2*s1*s0^2*s3*s2*s4*(s2*s3*s4*s3*s2)^2*s1\n",
      "(s0^-1*s1^-1*s2^-1*s3^-1*s4^-1*s0^-1*s1^-1*s2^-1*s3^-1*s0^-1*s1^-1*s2^-1*s0^-1*s1^-1*s0^-1)^15*s1*s2*s3*s2*s1*s4*s3*s1*s0*s2*s3*s4*s3*s0*s1*s3*s2*s1*s0*s4*s3*s2*(s1*s0)^2*s2*s1*s3*s2*s1*s0*s4*s0*s1*s2*s1*s0*s3*s4*s3^2*s2*s1*s0*s4*s3*s2*s1*s0^2*s1*s0*s2*s1*s3*s4*s1*s0*s2*s1*s3*s1*s2*s3*s2*s4*s2*(s1*s3)^2*s2*s1*s0*s4*s3*s2*s1^2*s2*s3*s2*s1*s4*s3^2*s2^2*s1*s0*s3*s2^2*s1*s3*s1*s0*s2*s1*s3*s2*s1*s4*s1*(s0*s2*s1*s0*s3*s4*s3*s2*s1*s0)^2*s0*s1*s0*s2*s1^2*s2*s1*s0*s3*s2*s1*s4*s3*s1*s0*s2*s3*s4*s3*s0*s3*s4*s3*s2^2*s1*s0*s3*s2*s1*s4*s3*s2*s1*s0^2*s1*s2*s1*s0*s3*s2*s4*s0*s2*s1*s0*s3*s4*s3*s2*s1*s0^2*s1*s2*s1*s0*s3*s2*s4*s3*s2*s1*s0^2*s1*s0*s2*s1*s3*s2*s1*s4*s3*s2*s1*s0*s2*s4*s3*s2*s1*s0^2*s3*s2*s4*(s2*s3*s4*s3*s2)^2*s1\n",
      "True\n"
     ]
    }
   ],
   "source": [
    "print(commonKeyA)\n",
    "print(commonKeyB)\n",
    "print(commonKeyA == commonKeyB)"
   ]
  },
  {
   "cell_type": "code",
   "execution_count": 10,
   "metadata": {},
   "outputs": [
    {
     "name": "stdout",
     "output_type": "stream",
     "text": [
      "((s0^-1*s1^-1*s2^-1*s3^-1*s4^-1*s0^-1*s1^-1*s2^-1*s3^-1*s0^-1*s1^-1*s2^-1*s0^-1*s1^-1*s0^-1)^15, s1*s2*s3*s2*s1*s4*s3, s1*s0*s2*s3*s4*s3, s0*s1*s3*s2*s1*s0*s4*s3*s2*s1*s0, s1*s0*s2*s1*s3*s2*s1*s0*s4, s0*s1*s2*s1*s0*s3*s4*s3, s3*s2*s1*s0*s4*s3*s2*s1*s0, s0*s1*s0*s2*s1*s3*s4, s1*s0*s2*s1*s3, s1*s2*s3*s2*s4, s2*s1*s3, s1*s3*s2*s1*s0*s4*s3*s2*s1, s1*s2*s3*s2*s1*s4*s3, s3*s2, s2*s1*s0*s3*s2, s2*s1*s3, s1*s0*s2*s1*s3*s2*s1*s4, s1*s0*s2*s1*s0*s3*s4*s3*s2*s1*s0, s0*s2*s1*s0*s3*s4*s3*s2*s1*s0, s0*s1*s0*s2*s1, s1*s2*s1*s0*s3*s2*s1*s4*s3, s1*s0*s2*s3*s4*s3, s0*s3*s4*s3*s2, s2*s1*s0*s3*s2*s1*s4*s3*s2*s1*s0, s0*s1*s2*s1*s0*s3*s2*s4, s0*s2*s1*s0*s3*s4*s3*s2*s1*s0, s0*s1*s2*s1*s0*s3*s2*s4*s3*s2*s1*s0, s0*s1*s0*s2*s1*s3*s2*s1*s4*s3*s2*s1*s0, s2*s4*s3*s2*s1*s0, s0*s3*s2*s4, s2*s3*s4*s3*s2, s2*s3*s4*s3*s2*s1)\n"
     ]
    }
   ],
   "source": [
    "print(commonKeyA.left_normal_form())"
   ]
  }
 ],
 "metadata": {
  "kernelspec": {
   "display_name": "SageMath 9.2",
   "language": "sage",
   "name": "sagemath"
  },
  "language_info": {
   "codemirror_mode": {
    "name": "ipython",
    "version": 3
   },
   "file_extension": ".py",
   "mimetype": "text/x-python",
   "name": "python",
   "nbconvert_exporter": "python",
   "pygments_lexer": "ipython3",
   "version": "3.8.5"
  }
 },
 "nbformat": 4,
 "nbformat_minor": 4
}
