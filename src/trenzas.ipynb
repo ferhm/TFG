{
 "cells": [
  {
   "cell_type": "code",
   "execution_count": 1,
   "metadata": {},
   "outputs": [],
   "source": [
    "from functools import *\n",
    "import random"
   ]
  },
  {
   "cell_type": "code",
   "execution_count": null,
   "metadata": {
    "scrolled": true
   },
   "outputs": [],
   "source": [
    "p = BraidGroup(6,'s')\n",
    "p.gens()"
   ]
  },
  {
   "cell_type": "code",
   "execution_count": null,
   "metadata": {
    "scrolled": true
   },
   "outputs": [],
   "source": [
    "a = p([1,3])\n",
    "b = p([3,1])\n",
    "\n",
    "print(a==b)"
   ]
  },
  {
   "cell_type": "code",
   "execution_count": 12,
   "metadata": {},
   "outputs": [],
   "source": [
    "class AnshelAnshelGoldfeld:\n",
    "    \n",
    "    def __init__(self, n, keyLength):\n",
    "        self.n = n\n",
    "        self.Bn = BraidGroup(n)\n",
    "        self.keyLength = keyLength\n",
    "        \n",
    "        index_public_key = list(range(-1*(self.keyLength), self.keyLength+1))\n",
    "        index_public_key.remove(0)\n",
    "        self.funcA = random.choices(index_public_key, k = random.randint(5,10))\n",
    "        self.funcB = random.choices(index_public_key, k = random.randint(5,10))\n",
    "        \n",
    "        self.generatePublicKey()\n",
    "        self.generatePrivateKey()\n",
    "        self.messages()\n",
    "        \n",
    "    \n",
    "    def generatePublicKey(self):\n",
    "        self.publicKeyA = []\n",
    "        self.publicKeyB = []\n",
    "        index_generators = list(range(-1*(self.n-1), self.n))\n",
    "        index_generators.remove(0)\n",
    "        \n",
    "        for i in range(self.keyLength):\n",
    "            randomList = random.choices(index_generators, k = random.randint(5,10))\n",
    "            self.publicKeyA.append(self.Bn(randomList))\n",
    "        \n",
    "        for i in range(self.keyLength):\n",
    "            randomList = random.choices(index_generators, k = random.randint(5,10))\n",
    "            self.publicKeyB.append(self.Bn(randomList))\n",
    "            \n",
    "    def keyFunction(self, f, l):\n",
    "        key = self.Bn([1,-1])\n",
    "        #print(\"Lista: \", f)\n",
    "        for i in f:\n",
    "            if i > 0:\n",
    "                aux = l[i-1]\n",
    "            else:\n",
    "                aux = (l[-1*i-1]^-1)\n",
    "            \n",
    "            key = key * aux\n",
    "\n",
    "            #print(\"Llave en construccion: \", key)\n",
    "            #print(\"Elemento: \", aux)\n",
    "                \n",
    "        return key\n",
    "            \n",
    "    def generatePrivateKey(self):\n",
    "        self.privateKeyA = self.keyFunction(self.funcA, self.publicKeyA)\n",
    "        self.privateKeyB = self.keyFunction(self.funcB, self.publicKeyB)\n",
    "        \n",
    "    def messages(self):\n",
    "        self.messageA = []\n",
    "        self.messageB = []\n",
    "        \n",
    "        for t in self.publicKeyA:\n",
    "            self.messageB.append(self.privateKeyB*t*(self.privateKeyB^-1))\n",
    "        \n",
    "        for t in self.publicKeyB:\n",
    "            self.messageA.append(self.privateKeyA*t*(self.privateKeyA^-1))\n",
    "    \n",
    "    def commonKey(self):\n",
    "        keyA = self.privateKeyA*(self.keyFunction(self.funcA, self.messageB)^-1)\n",
    "        keyB = self.keyFunction(self.funcB, self.messageA)*(self.privateKeyB^-1)\n",
    "        \n",
    "        return keyA,keyB\n",
    "        \n",
    "        "
   ]
  },
  {
   "cell_type": "code",
   "execution_count": 13,
   "metadata": {
    "scrolled": true
   },
   "outputs": [],
   "source": [
    "A = AnshelAnshelGoldfeld(6,4)"
   ]
  },
  {
   "cell_type": "code",
   "execution_count": 4,
   "metadata": {
    "scrolled": true
   },
   "outputs": [
    {
     "name": "stdout",
     "output_type": "stream",
     "text": [
      "[s0^-1*s3*s0^-2*s1*s4*s1^-1*s3^-1, s4^-1*s2^-1*s3*s2*s4^-1, s0^-1*s4*s3^-1*s0^-1*s4, s0*s1*s3^-1*s4^-1*s0]\n",
      "[s0*s4*s3*s1^-1*s3^-1*s0^-1, s3^-2*s1^-1*s2*s4*s1^-1*s2^-1, s1*s3^-1*s0*s1*s3^2*s4*s1^-1, s3^-2*s2*s1^2*s3^-1]\n",
      "[1, 2, -4, -3, 1, 1, -3, -4]\n",
      "[2, 4, -3, -1, 4, -4, 3, 1]\n",
      "s0^-1*s3*s0^-2*s1*s4*s1^-1*s3^-1*s4^-1*s2^-1*s3*s2*s4^-1*s0^-1*s4*s3*s1^-1*s0^-1*s4^-1*s0*s3*s4^-1*s3*s0^-2*s1*s4*s1^-1*s3^-1*s0^-1*s3*s0^-2*s1*s4*s1^-1*s3^-1*s4^-1*s0*s3^2*s1^-1*s0^-1\n",
      "s3^-2*s1^-1*s2*s4*s1^-1*s2^-1*s3^-2*s2*s1^2*s3^-1*s1*s4^-1*s3^-2*s1^-1*s0^-1*s3*s1^-1*s0*s3*s1*s3^-1*s4^-1*s0^-1*s1*s3^-1*s0*s1*s3^2*s4*s1^-1*s0*s4*s3*s1^-1*s3^-1*s0^-1\n",
      "[s0^-1*s3*s0^-2*s1*s4*s1^-1*s3^-1*s4^-1*s2^-1*s3*s2*s4^-1*s0^-1*s4*s3*s1^-1*s0^-1*s4^-1*s0*s3*s4^-1*s3*s0^-2*s1*s4*s1^-1*s3^-1*s0^-1*s3*s0^-2*s1*s4*s1^-1*s3^-1*s4^-1*s0*s3^2*s1^-1*s4*s3*s1^-1*s3^-1*s1*s3^-2*s0^-1*s4*s3*s1*s4^-1*s1^-1*s0^2*s3^-1*s0*s3*s1*s4^-1*s1^-1*s0^2*s3^-1*s4*s3^-1*s0^-1*s4*s0*s1*s3^-1*s4^-1*s0*s4*s2^-1*s3^-1*s2*s4*s3*s1*s4^-1*s1^-1*s0^2*s3^-1*s0, s0^-1*s3*s0^-2*s1*s4*s1^-1*s3^-1*s4^-1*s2^-1*s3*s2*s4^-1*s0^-1*s4*s3*s1^-1*s0^-1*s4^-1*s0*s3*s4^-1*s3*s0^-2*s1*s4*s1^-1*s3^-1*s0^-1*s3*s0^-2*s1*s4*s1^-1*s3^-1*s4^-1*s0*s3^2*s1^-1*s0^-1*s3^-2*s1^-1*s2*s4*s1^-1*s2^-1*s0*s1*s3^-2*s0^-1*s4*s3*s1*s4^-1*s1^-1*s0^2*s3^-1*s0*s3*s1*s4^-1*s1^-1*s0^2*s3^-1*s4*s3^-1*s0^-1*s4*s0*s1*s3^-1*s4^-1*s0*s4*s2^-1*s3^-1*s2*s4*s3*s1*s4^-1*s1^-1*s0^2*s3^-1*s0, s0^-1*s3*s0^-2*s1*s4*s1^-1*s3^-1*s4^-1*s2^-1*s3*s2*s4^-1*s0^-1*s4*s3*s1^-1*s0^-1*s4^-1*s0*s3*s4^-1*s3*s0^-2*s1*s4*s1^-1*s3^-1*s0^-1*s3*s0^-2*s1*s4*s1^-1*s3^-1*s4^-1*s0*s3^2*s1^-1*s0^-1*s1*s3^-1*s0*s1*s3^2*s4*s1^-1*s0*s1*s3^-2*s0^-1*s4*s3*s1*s4^-1*s1^-1*s0^2*s3^-1*s0*s3*s1*s4^-1*s1^-1*s0^2*s3^-1*s4*s3^-1*s0^-1*s4*s0*s1*s3^-1*s4^-1*s0*s4*s2^-1*s3^-1*s2*s4*s3*s1*s4^-1*s1^-1*s0^2*s3^-1*s0, s0^-1*s3*s0^-2*s1*s4*s1^-1*s3^-1*s4^-1*s2^-1*s3*s2*s4^-1*s0^-1*s4*s3*s1^-1*s0^-1*s4^-1*s0*s3*s4^-1*s3*s0^-2*s1*s4*s1^-1*s3^-1*s0^-1*s3*s0^-2*s1*s4*s1^-1*s3^-1*s4^-1*s0*s3^2*s1^-1*s0^-1*s3^-2*s2*s1^2*s3^-1*s0*s1*s3^-2*s0^-1*s4*s3*s1*s4^-1*s1^-1*s0^2*s3^-1*s0*s3*s1*s4^-1*s1^-1*s0^2*s3^-1*s4*s3^-1*s0^-1*s4*s0*s1*s3^-1*s4^-1*s0*s4*s2^-1*s3^-1*s2*s4*s3*s1*s4^-1*s1^-1*s0^2*s3^-1*s0]\n",
      "[s3^-2*s1^-1*s2*s4*s1^-1*s2^-1*s3^-2*s2*s1^2*s3^-1*s1*s4^-1*s3^-2*s1^-1*s0^-1*s3*s1^-1*s0*s3*s1*s3^-1*s4^-1*s0^-1*s1*s3^-1*s0*s1*s3^2*s4*s1^-1*s0*s4*s3*s1^-1*s3^-1*s0^-2*s3*s0^-2*s1*s4*s1^-1*s3^-1*s0*s3*s1*s3^-1*s4^-1*s0^-1*s1*s4^-1*s3^-2*s1^-1*s0^-1*s3*s1^-1*s0*s4*s3*s1^-1*s3^-1*s0^-1*s1*s3^-1*s0*s1*s3^2*s4*s1^-1*s3*s1^-2*s2^-1*s3^2*s2*s1*s4^-1*s2^-1*s1*s3^2, s3^-2*s1^-1*s2*s4*s1^-1*s2^-1*s3^-2*s2*s1^2*s3^-1*s1*s4^-1*s3^-2*s1^-1*s0^-1*s3*s1^-1*s0*s3*s1*s3^-1*s4^-1*s0^-1*s1*s3^-1*s0*s1*s3^2*s4*s1^-1*s0*s4*s3*s1^-1*s3^-1*s0^-1*s4^-1*s2^-1*s3*s2*s4^-1*s0*s3*s1*s3^-1*s4^-1*s0^-1*s1*s4^-1*s3^-2*s1^-1*s0^-1*s3*s1^-1*s0*s4*s3*s1^-1*s3^-1*s0^-1*s1*s3^-1*s0*s1*s3^2*s4*s1^-1*s3*s1^-2*s2^-1*s3^2*s2*s1*s4^-1*s2^-1*s1*s3^2, s3^-2*s1^-1*s2*s4*s1^-1*s2^-1*s3^-2*s2*s1^2*s3^-1*s1*s4^-1*s3^-2*s1^-1*s0^-1*s3*s1^-1*s0*s3*s1*s3^-1*s4^-1*s0^-1*s1*s3^-1*s0*s1*s3^2*s4*s1^-1*s0*s4*s3*s1^-1*s3^-1*s0^-2*s4*s3^-1*s0^-1*s4*s0*s3*s1*s3^-1*s4^-1*s0^-1*s1*s4^-1*s3^-2*s1^-1*s0^-1*s3*s1^-1*s0*s4*s3*s1^-1*s3^-1*s0^-1*s1*s3^-1*s0*s1*s3^2*s4*s1^-1*s3*s1^-2*s2^-1*s3^2*s2*s1*s4^-1*s2^-1*s1*s3^2, s3^-2*s1^-1*s2*s4*s1^-1*s2^-1*s3^-2*s2*s1^2*s3^-1*s1*s4^-1*s3^-2*s1^-1*s0^-1*s3*s1^-1*s0*s3*s1*s3^-1*s4^-1*s0^-1*s1*s3^-1*s0*s1*s3^2*s4*s1^-1*s0*s4*s3*s1^-1*s3^-1*s1*s3^-1*s4^-1*s0^2*s3*s1*s3^-1*s4^-1*s0^-1*s1*s4^-1*s3^-2*s1^-1*s0^-1*s3*s1^-1*s0*s4*s3*s1^-1*s3^-1*s0^-1*s1*s3^-1*s0*s1*s3^2*s4*s1^-1*s3*s1^-2*s2^-1*s3^2*s2*s1*s4^-1*s2^-1*s1*s3^2]\n"
     ]
    }
   ],
   "source": [
    "print(A.publicKeyA)\n",
    "print(A.publicKeyB)\n",
    "print(A.funcA)\n",
    "print(A.funcB)\n",
    "print(A.privateKeyA)\n",
    "print(A.privateKeyB)\n",
    "print(A.messageA)\n",
    "print(A.messageB)"
   ]
  },
  {
   "cell_type": "code",
   "execution_count": 5,
   "metadata": {},
   "outputs": [
    {
     "data": {
      "text/plain": [
       "[s0^-1*s3*s0^-2*s1*s4*s1^-1*s3^-1*s4^-1*s2^-1*s3*s2*s4^-1*s0^-1*s4*s3*s1^-1*s0^-1*s4^-1*s0*s3*s4^-1*s3*s0^-2*s1*s4*s1^-1*s3^-1*s0^-1*s3*s0^-2*s1*s4*s1^-1*s3^-1*s4^-1*s0*s3^2*s1^-1*s4*s3*s1^-1*s3^-1*s1*s3^-2*s0^-1*s4*s3*s1*s4^-1*s1^-1*s0^2*s3^-1*s0*s3*s1*s4^-1*s1^-1*s0^2*s3^-1*s4*s3^-1*s0^-1*s4*s0*s1*s3^-1*s4^-1*s0*s4*s2^-1*s3^-1*s2*s4*s3*s1*s4^-1*s1^-1*s0^2*s3^-1*s0,\n",
       " s0^-1*s3*s0^-2*s1*s4*s1^-1*s3^-1*s4^-1*s2^-1*s3*s2*s4^-1*s0^-1*s4*s3*s1^-1*s0^-1*s4^-1*s0*s3*s4^-1*s3*s0^-2*s1*s4*s1^-1*s3^-1*s0^-1*s3*s0^-2*s1*s4*s1^-1*s3^-1*s4^-1*s0*s3^2*s1^-1*s0^-1*s3^-2*s1^-1*s2*s4*s1^-1*s2^-1*s0*s1*s3^-2*s0^-1*s4*s3*s1*s4^-1*s1^-1*s0^2*s3^-1*s0*s3*s1*s4^-1*s1^-1*s0^2*s3^-1*s4*s3^-1*s0^-1*s4*s0*s1*s3^-1*s4^-1*s0*s4*s2^-1*s3^-1*s2*s4*s3*s1*s4^-1*s1^-1*s0^2*s3^-1*s0,\n",
       " s0^-1*s3*s0^-2*s1*s4*s1^-1*s3^-1*s4^-1*s2^-1*s3*s2*s4^-1*s0^-1*s4*s3*s1^-1*s0^-1*s4^-1*s0*s3*s4^-1*s3*s0^-2*s1*s4*s1^-1*s3^-1*s0^-1*s3*s0^-2*s1*s4*s1^-1*s3^-1*s4^-1*s0*s3^2*s1^-1*s0^-1*s1*s3^-1*s0*s1*s3^2*s4*s1^-1*s0*s1*s3^-2*s0^-1*s4*s3*s1*s4^-1*s1^-1*s0^2*s3^-1*s0*s3*s1*s4^-1*s1^-1*s0^2*s3^-1*s4*s3^-1*s0^-1*s4*s0*s1*s3^-1*s4^-1*s0*s4*s2^-1*s3^-1*s2*s4*s3*s1*s4^-1*s1^-1*s0^2*s3^-1*s0,\n",
       " s0^-1*s3*s0^-2*s1*s4*s1^-1*s3^-1*s4^-1*s2^-1*s3*s2*s4^-1*s0^-1*s4*s3*s1^-1*s0^-1*s4^-1*s0*s3*s4^-1*s3*s0^-2*s1*s4*s1^-1*s3^-1*s0^-1*s3*s0^-2*s1*s4*s1^-1*s3^-1*s4^-1*s0*s3^2*s1^-1*s0^-1*s3^-2*s2*s1^2*s3^-1*s0*s1*s3^-2*s0^-1*s4*s3*s1*s4^-1*s1^-1*s0^2*s3^-1*s0*s3*s1*s4^-1*s1^-1*s0^2*s3^-1*s4*s3^-1*s0^-1*s4*s0*s1*s3^-1*s4^-1*s0*s4*s2^-1*s3^-1*s2*s4*s3*s1*s4^-1*s1^-1*s0^2*s3^-1*s0]"
      ]
     },
     "execution_count": 5,
     "metadata": {},
     "output_type": "execute_result"
    }
   ],
   "source": [
    "A.messageA"
   ]
  },
  {
   "cell_type": "code",
   "execution_count": null,
   "metadata": {
    "scrolled": false
   },
   "outputs": [],
   "source": [
    "A.keyFunction(A.funcA, A.publicKeyA)"
   ]
  },
  {
   "cell_type": "code",
   "execution_count": 14,
   "metadata": {
    "scrolled": false
   },
   "outputs": [],
   "source": [
    "h,k = A.commonKey()"
   ]
  },
  {
   "cell_type": "code",
   "execution_count": 15,
   "metadata": {},
   "outputs": [
    {
     "data": {
      "text/plain": [
       "s4*s1*s3^-1*s1^-2*s2^-1*s4^-1*s0*s1*s3*s1^-1*s3*s2^-1*s1*s4^-1*s1*s3*s2*s1*s0*s1^-1*s3*s2*s4^-1*(s0*s1^-1)^2*s3^-1*s2*s1*s3*s2*s1*(s4*s2^-1*s3^-1*s1*s0^-1)^2*s1^-1*s2^-1*s3^-1*s0*s1^-1*s3^-1*s2*s1*s3*s2*s4^-1*s0*s1^-2*s4*s1^-1*s2*s3^-1*s1*s3^-1*s1^-1*s0^-1*s4*s2*s1^2*s3*s1^-1*s4^-1*s1*s0^-1*s4*s2^-1*s3^-1*s1^-1*s2^-1*s3*s1*s0^-1*s3*s2*s1*(s0*s1^-1*s3*s2*s4^-1)^2*s1^-1*s2^-1*s3^-1*s1^-1*s2^-1*s3*(s1*s0^-1)^2*s4*s2^-1*s3^-1*s1*s0^-1*s1^-1*s2^-1*s3^-1"
      ]
     },
     "execution_count": 15,
     "metadata": {},
     "output_type": "execute_result"
    }
   ],
   "source": [
    "h"
   ]
  },
  {
   "cell_type": "code",
   "execution_count": 16,
   "metadata": {},
   "outputs": [
    {
     "data": {
      "text/plain": [
       "s4*s1*s3^-1*s1^-2*s2^-1*s4^-1*s0*s1*s3*s1^-1*s3*s2^-1*s1*s4^-1*s1*s3*s2*s1*s0*s1^-1*s3*s2*s4^-1*(s0*s1^-1)^2*s3^-1*s2*s1*s3*s2*s1*(s4*s2^-1*s3^-1*s1*s0^-1)^2*s1^-1*s2^-1*s3^-1*s0*s1^-1*s3^-1*s2*s1*s3*s2*s4^-1*s0*s1^-2*s4*s1^-1*s2*s3^-1*s1*s3^-1*s1^-1*s0^-1*s4*s2*s1^2*s3*s1^-1*s4^-1*s1*s0^-1*s4*s2^-1*s3^-1*s1^-1*s2^-1*s3*s1*s0^-1*s3*s2*s1*(s0*s1^-1*s3*s2*s4^-1)^2*s1^-1*s2^-1*s3^-1*s1^-1*s2^-1*s3*(s1*s0^-1)^2*s4*s2^-1*s3^-1*s1*s0^-1*s1^-1*s2^-1*s3^-1"
      ]
     },
     "execution_count": 16,
     "metadata": {},
     "output_type": "execute_result"
    }
   ],
   "source": [
    "k"
   ]
  },
  {
   "cell_type": "code",
   "execution_count": 17,
   "metadata": {},
   "outputs": [
    {
     "data": {
      "text/plain": [
       "True"
      ]
     },
     "execution_count": 17,
     "metadata": {},
     "output_type": "execute_result"
    }
   ],
   "source": [
    "h==k"
   ]
  },
  {
   "cell_type": "code",
   "execution_count": 7,
   "metadata": {},
   "outputs": [
    {
     "data": {
      "text/plain": [
       "s0^-1*s3*s0^-2*s1*s4*s1^-1*s3^-1*s4^-1*s2^-1*s3*s2*s4^-1*s0^-1*s4*s3*s1^-1*s0^-1*s4^-1*s0*s3*s4^-1*s3*s0^-2*s1*s4*s1^-1*s3^-1*s0^-1*s3*s0^-2*s1*s4*s1^-1*s3^-1*s4^-1*s0*s3^2*s1^-1*s4*s3*s1^-1*s3^-1*s1*s3^-2*s0^-1*s4*s3*s1*s4^-1*s1^-1*s0^2*s3^-1*s0*s3*s1*s4^-1*s1^-1*s0^2*s3^-1*s4*s3^-1*s0^-1*s4*s0*s1*s3^-1*s4^-1*s0*s4*s2^-1*s3^-1*s2*s4*s3*s1*s4^-1*s1^-1*s0^2*s3^-1*s0"
      ]
     },
     "execution_count": 7,
     "metadata": {},
     "output_type": "execute_result"
    }
   ],
   "source": [
    "A.privateKeyA*A.publicKeyB[0]*(A.privateKeyA^-1)"
   ]
  },
  {
   "cell_type": "code",
   "execution_count": 8,
   "metadata": {},
   "outputs": [
    {
     "data": {
      "text/plain": [
       "s0*s1*s3^-2*s0^-1*s4*s3*s1*s4^-1*s1^-1*s0^2*s3^-1*s0*s3*s1*s4^-1*s1^-1*s0^2*s3^-1*s4*s3^-1*s0^-1*s4*s0*s1*s3^-1*s4^-1*s0*s4*s2^-1*s3^-1*s2*s4*s3*s1*s4^-1*s1^-1*s0^2*s3^-1*s0"
      ]
     },
     "execution_count": 8,
     "metadata": {},
     "output_type": "execute_result"
    }
   ],
   "source": [
    "A.privateKeyA^-1"
   ]
  }
 ],
 "metadata": {
  "kernelspec": {
   "display_name": "SageMath 9.2",
   "language": "sage",
   "name": "sagemath"
  },
  "language_info": {
   "codemirror_mode": {
    "name": "ipython",
    "version": 3
   },
   "file_extension": ".py",
   "mimetype": "text/x-python",
   "name": "python",
   "nbconvert_exporter": "python",
   "pygments_lexer": "ipython3",
   "version": "3.8.5"
  }
 },
 "nbformat": 4,
 "nbformat_minor": 4
}
