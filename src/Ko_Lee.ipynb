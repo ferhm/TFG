{
 "cells": [
  {
   "cell_type": "code",
   "execution_count": 3,
   "metadata": {},
   "outputs": [],
   "source": [
    "from functools import *\n",
    "import random\n",
    "import timeit"
   ]
  },
  {
   "cell_type": "code",
   "execution_count": 4,
   "metadata": {},
   "outputs": [],
   "source": [
    "class Ko_Lee:\n",
    "    def __init__(self, n, public_key, length):\n",
    "        self.n = n\n",
    "        self.length = length\n",
    "        self.Bn = BraidGroup(n)\n",
    "        self.public_key = public_key\n",
    "        \n",
    "    @classmethod\n",
    "    def generate_public_key(cls, n, length):\n",
    "        Bn = BraidGroup(n)\n",
    "        index_generators = list(range(-1*(n)+1, n))\n",
    "        index_generators.remove(0)\n",
    "        return Bn(random.choices(index_generators, k = 12*length))\n",
    "    \n",
    "    def generate_private_key(self, member):\n",
    "        m = self.n//2\n",
    "        index_generators_sub = [];\n",
    "        \n",
    "        if member == 0:\n",
    "            index_generators_sub = list(range(1, m)) + list(range(-m+1, 0))\n",
    "        else:\n",
    "            index_generators_sub = list(range(m+1, self.n)) + list(range(-self.n+1, -m))\n",
    "        \n",
    "        self.private_key = self.Bn(random.choices(index_generators_sub, k = 12*self.length))\n",
    "    \n",
    "    def message(self):\n",
    "        return self.lnf(self.private_key*self.public_key*(self.private_key^-1))\n",
    "    \n",
    "    def commonKey(self, message):\n",
    "        return self.lnf(self.private_key*message*(self.private_key^-1))\n",
    "    \n",
    "    def lnf(self,braid):\n",
    "        normal = self.Bn([1,-1])\n",
    "        tup = braid.left_normal_form()\n",
    "\n",
    "        for i in range(len(tup)):\n",
    "            normal = normal*tup[i]\n",
    "        \n",
    "        return normal\n",
    "        \n",
    "\n",
    "        "
   ]
  },
  {
   "cell_type": "code",
   "execution_count": 11,
   "metadata": {},
   "outputs": [],
   "source": [
    "def measure(i,j, iterations):\n",
    "    m = []\n",
    "    for k in range(iterations):\n",
    "        start = timeit.default_timer()\n",
    "        pK = Ko_Lee.generate_public_key(i,j)\n",
    "        A = Ko_Lee(i, pK, j)\n",
    "        B = Ko_Lee(i, pK, j)\n",
    "        A.generate_private_key(0)\n",
    "        B.generate_private_key(1)\n",
    "        aM = A.message()\n",
    "        bM = B.message()\n",
    "        commonKeyA = A.commonKey(bM)\n",
    "        end = timeit.default_timer()\n",
    "        m.append(end-start)\n",
    "        if (end-start) > 300:\n",
    "            break\n",
    "    if len(m) > 1:\n",
    "        stdes = std(m)\n",
    "    else:\n",
    "        stdes = 0;\n",
    "    \n",
    "    return len(m), mean(m), stdes, min(m), max(m)"
   ]
  },
  {
   "cell_type": "code",
   "execution_count": 6,
   "metadata": {},
   "outputs": [],
   "source": [
    "def test(n_min,m_max,n_s,l_min,l_max,l_s):\n",
    "    print(\"size_sample,n,l,time,std,min,max\")\n",
    "    for i in range(n_min,m_max+1,n_s):\n",
    "        for j in range(l_min,l_max+1,l_s):\n",
    "            s, t, st, minimo, maximo= measure(i,j,3)\n",
    "            print(s, \",\", i,\",\",j,\",\", t,\",\", st, \",\", minimo,\",\",maximo)\n",
    "            "
   ]
  },
  {
   "cell_type": "code",
   "execution_count": 12,
   "metadata": {},
   "outputs": [],
   "source": [
    "random.seed(10)"
   ]
  },
  {
   "cell_type": "code",
   "execution_count": null,
   "metadata": {
    "scrolled": true
   },
   "outputs": [
    {
     "name": "stdout",
     "output_type": "stream",
     "text": [
      "size_sample,n,l,time,std,min,max\n",
      "3 , 5 , 5 , 1.9490230833325768 , 0.10337826867171628 , 1.8329075229994487 , 2.0310589559994696\n",
      "3 , 5 , 10 , 6.462030073667847 , 3.261762196488082 , 4.064269113001501 , 10.176293111002451\n",
      "3 , 10 , 5 , 28.66778805433326 , 11.483867894955019 , 15.409927938999317 , 35.52272851100133\n",
      "3 , 10 , 10 , 180.22432428466587 , 56.130542376187854 , 117.33346392199746 , 225.24151004799933\n",
      "3 , 15 , 5 , 105.46925709233376 , 26.221353055274637 , 76.81767062500148 , 128.27292156399926\n",
      "1 , 15 , 10 , 643.5934108129986 , 0 , 643.5934108129986 , 643.5934108129986\n",
      "1 , 20 , 5 , 477.95886464499927 , 0 , 477.95886464499927 , 477.95886464499927\n",
      "1 , 20 , 10 , 1318.7475715889996 , 0 , 1318.7475715889996 , 1318.7475715889996\n",
      "1 , 25 , 5 , 665.3137226640029 , 0 , 665.3137226640029 , 665.3137226640029\n"
     ]
    }
   ],
   "source": [
    "test(5,25,5,5,10,5)"
   ]
  },
  {
   "cell_type": "code",
   "execution_count": 23,
   "metadata": {},
   "outputs": [
    {
     "name": "stdout",
     "output_type": "stream",
     "text": [
      "s0^-2*s1^-1*s2*s4^-1*s0\n"
     ]
    }
   ],
   "source": [
    "pK = Koo_Lee.generate_public_key(6)\n",
    "print(pK)"
   ]
  },
  {
   "cell_type": "code",
   "execution_count": 24,
   "metadata": {
    "scrolled": true
   },
   "outputs": [],
   "source": [
    "A = Koo_Lee(6, pK)\n",
    "B = Koo_Lee(6, pK)"
   ]
  },
  {
   "cell_type": "code",
   "execution_count": 25,
   "metadata": {},
   "outputs": [],
   "source": [
    "A.generate_private_key(0)\n",
    "B.generate_private_key(1)"
   ]
  },
  {
   "cell_type": "code",
   "execution_count": 27,
   "metadata": {},
   "outputs": [],
   "source": [
    "aM = A.message()\n",
    "bM = B.message()"
   ]
  },
  {
   "cell_type": "code",
   "execution_count": 28,
   "metadata": {},
   "outputs": [],
   "source": [
    "ack = A.commonKey(bM)\n",
    "bck = B.commonKey(aM)"
   ]
  },
  {
   "cell_type": "code",
   "execution_count": 29,
   "metadata": {},
   "outputs": [
    {
     "name": "stdout",
     "output_type": "stream",
     "text": [
      "(s0^-1*s1^-1*s2^-1*s3^-1*s4^-1*s0^-1*s1^-1*s2^-1*s3^-1*s0^-1*s1^-1*s2^-1*s0^-1*s1^-1*s0^-1)^4*s0^-1*s1^-1*s2^-1*s3^-1*s4^-1*s0^-1*s4*s3*s2*s1^2*s2*s1*s0*s3*s2*s1*s0*s4*s3*s2*s1^2*s0*s2*s1*s0*s3*s2*s1*s4*s3*s2*s1*s0^2*s2*s1*s0*s3*s2*s1*s0*s4*s3*s2*s1^2*s2*s1*s0*s3*s2*s1*s0*s4*s3*s0*s3*s4*s3*s2*(s1*s0)^2*s4*s0*s1*s4\n",
      "(s0^-1*s1^-1*s2^-1*s3^-1*s4^-1*s0^-1*s1^-1*s2^-1*s3^-1*s0^-1*s1^-1*s2^-1*s0^-1*s1^-1*s0^-1)^4*s0^-1*s1^-1*s2^-1*s3^-1*s4^-1*s0^-1*s4*s3*s2*s1^2*s2*s1*s0*s3*s2*s1*s0*s4*s3*s2*s1^2*s0*s2*s1*s0*s3*s2*s1*s4*s3*s2*s1*s0^2*s2*s1*s0*s3*s2*s1*s0*s4*s3*s2*s1^2*s2*s1*s0*s3*s2*s1*s0*s4*s3*s0*s3*s4*s3*s2*(s1*s0)^2*s4*s0*s1*s4\n",
      "True\n"
     ]
    }
   ],
   "source": [
    "print(ack)\n",
    "print(bck)\n",
    "print(ack==bck)"
   ]
  },
  {
   "cell_type": "code",
   "execution_count": 11,
   "metadata": {
    "scrolled": true
   },
   "outputs": [
    {
     "data": {
      "text/plain": [
       "((s0^-1*s1^-1*s2^-1*s3^-1*s4^-1*s5^-1*s6^-1*s7^-1*s8^-1*s0^-1*s1^-1*s2^-1*s3^-1*s4^-1*s5^-1*s6^-1*s7^-1*s0^-1*s1^-1*s2^-1*s3^-1*s4^-1*s5^-1*s6^-1*s0^-1*s1^-1*s2^-1*s3^-1*s4^-1*s5^-1*s0^-1*s1^-1*s2^-1*s3^-1*s4^-1*s0^-1*s1^-1*s2^-1*s3^-1*s0^-1*s1^-1*s2^-1*s0^-1*s1^-1*s0^-1)^5,\n",
       " s1*s2*s1*s3*s4*s3*s2*s1*s0*s5*s4*s3*s2*s1*s0*s6*s5*s4*s3*s2*s1*s7*s6*s5*s4*s3*s2*s1*s0*s8*s7*s6*s5*s4*s3*s2*s1*s0,\n",
       " s1*s0*s2*s1*s3*s2*s1*s0*s4*s3*s2*s1*s0*s5*s4*s3*s2*s1*s6*s5*s4*s3*s2*s1*s0*s7*s6*s5*s4*s3*s2*s8*s7*s6*s5*s4,\n",
       " s0*s1*s2*s1*s0*s5*s6*s7*s6*s5*s4*s3*s2*s1*s0*s8*s7*s6*s5*s4*s3*s2*s1,\n",
       " s4*s3*s5*s6*s8*s7*s6*s5*s4*s3*s2*s1*s0,\n",
       " s0*s1*s4*s3*s5*s4*s6*s7*s6*s5*s4*s3,\n",
       " s3*s2*s1*s0*s4*s3*s2*s1*s5*s4*s3*s2*s1*s0*s6*s5*s4*s3*s2*s1*s7*s6*s5*s4*s3*s8*s7*s6*s5,\n",
       " s1*s2*s3*s2*s1*s4*s3*s5*s4*s3*s2*s1*s0*s6*s5*s4*s3*s2*s1*s7*s6*s5*s4*s3*s2*s8*s7*s6*s5*s4*s3,\n",
       " s5*s8,\n",
       " s5*s4*s6*s8*s7*s6*s5*s4,\n",
       " s5*s6*s7*s6*s5*s8*s7*s6,\n",
       " s6*s5*s4*s3*s7*s6*s5*s8*s7*s6,\n",
       " s3*s4*s6)"
      ]
     },
     "execution_count": 11,
     "metadata": {},
     "output_type": "execute_result"
    }
   ],
   "source": [
    "n=10\n",
    "Bn = BraidGroup(n)\n",
    "index_generators = list(range(-1*(n)+1, n))\n",
    "index_generators.remove(0)\n",
    "trenza = Bn(random.choices(index_generators, k = 12*5))\n",
    "trenza.left_normal_form()"
   ]
  }
 ],
 "metadata": {
  "kernelspec": {
   "display_name": "SageMath 9.2",
   "language": "sage",
   "name": "sagemath"
  },
  "language_info": {
   "codemirror_mode": {
    "name": "ipython",
    "version": 3
   },
   "file_extension": ".py",
   "mimetype": "text/x-python",
   "name": "python",
   "nbconvert_exporter": "python",
   "pygments_lexer": "ipython3",
   "version": "3.8.5"
  }
 },
 "nbformat": 4,
 "nbformat_minor": 4
}
