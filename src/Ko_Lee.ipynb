{
 "cells": [
  {
   "cell_type": "code",
   "execution_count": 17,
   "metadata": {},
   "outputs": [],
   "source": [
    "from functools import *\n",
    "import random"
   ]
  },
  {
   "cell_type": "code",
   "execution_count": 22,
   "metadata": {},
   "outputs": [],
   "source": [
    "class Koo_Lee:\n",
    "    def __init__(self, n, public_key):\n",
    "        self.n = n\n",
    "        self.Bn = BraidGroup(n)\n",
    "        self.public_key = public_key\n",
    "        \n",
    "    @classmethod\n",
    "    def generate_public_key(cls, n):\n",
    "        Bn = BraidGroup(n)\n",
    "        index_generators = list(range(-1*(n)+1, n))\n",
    "        index_generators.remove(0)\n",
    "        return Bn(random.choices(index_generators, k = random.randint(5,10)))\n",
    "    \n",
    "    def generate_private_key(self, member):\n",
    "        m = self.n//2\n",
    "        index_generators_sub = [];\n",
    "        \n",
    "        if member == 0:\n",
    "            index_generators_sub = list(range(1, m)) + list(range(-m+1, 0))\n",
    "        else:\n",
    "            index_generators_sub = list(range(m+1, self.n)) + list(range(-self.n+1, -m))\n",
    "        \n",
    "        self.private_key = self.Bn(random.choices(index_generators_sub, k = random.randint(5,10)))\n",
    "    \n",
    "    def message(self):\n",
    "        return self.lnf(self.private_key*self.public_key*(self.private_key^-1))\n",
    "    \n",
    "    def commonKey(self, message):\n",
    "        return self.lnf(self.private_key*message*(self.private_key^-1))\n",
    "    \n",
    "    def lnf(self,braid):\n",
    "        normal = self.Bn([1,-1])\n",
    "        tup = braid.left_normal_form()\n",
    "\n",
    "        for i in range(len(tup)):\n",
    "            normal = normal*tup[i]\n",
    "        \n",
    "        return normal\n",
    "        \n",
    "\n",
    "        "
   ]
  },
  {
   "cell_type": "code",
   "execution_count": 23,
   "metadata": {},
   "outputs": [
    {
     "name": "stdout",
     "output_type": "stream",
     "text": [
      "s0^-2*s1^-1*s2*s4^-1*s0\n"
     ]
    }
   ],
   "source": [
    "pK = Koo_Lee.generate_public_key(6)\n",
    "print(pK)"
   ]
  },
  {
   "cell_type": "code",
   "execution_count": 24,
   "metadata": {
    "scrolled": true
   },
   "outputs": [],
   "source": [
    "A = Koo_Lee(6, pK)\n",
    "B = Koo_Lee(6, pK)"
   ]
  },
  {
   "cell_type": "code",
   "execution_count": 25,
   "metadata": {},
   "outputs": [],
   "source": [
    "A.generate_private_key(0)\n",
    "B.generate_private_key(1)"
   ]
  },
  {
   "cell_type": "code",
   "execution_count": 27,
   "metadata": {},
   "outputs": [],
   "source": [
    "aM = A.message()\n",
    "bM = B.message()"
   ]
  },
  {
   "cell_type": "code",
   "execution_count": 28,
   "metadata": {},
   "outputs": [],
   "source": [
    "ack = A.commonKey(bM)\n",
    "bck = B.commonKey(aM)"
   ]
  },
  {
   "cell_type": "code",
   "execution_count": 29,
   "metadata": {},
   "outputs": [
    {
     "name": "stdout",
     "output_type": "stream",
     "text": [
      "(s0^-1*s1^-1*s2^-1*s3^-1*s4^-1*s0^-1*s1^-1*s2^-1*s3^-1*s0^-1*s1^-1*s2^-1*s0^-1*s1^-1*s0^-1)^4*s0^-1*s1^-1*s2^-1*s3^-1*s4^-1*s0^-1*s4*s3*s2*s1^2*s2*s1*s0*s3*s2*s1*s0*s4*s3*s2*s1^2*s0*s2*s1*s0*s3*s2*s1*s4*s3*s2*s1*s0^2*s2*s1*s0*s3*s2*s1*s0*s4*s3*s2*s1^2*s2*s1*s0*s3*s2*s1*s0*s4*s3*s0*s3*s4*s3*s2*(s1*s0)^2*s4*s0*s1*s4\n",
      "(s0^-1*s1^-1*s2^-1*s3^-1*s4^-1*s0^-1*s1^-1*s2^-1*s3^-1*s0^-1*s1^-1*s2^-1*s0^-1*s1^-1*s0^-1)^4*s0^-1*s1^-1*s2^-1*s3^-1*s4^-1*s0^-1*s4*s3*s2*s1^2*s2*s1*s0*s3*s2*s1*s0*s4*s3*s2*s1^2*s0*s2*s1*s0*s3*s2*s1*s4*s3*s2*s1*s0^2*s2*s1*s0*s3*s2*s1*s0*s4*s3*s2*s1^2*s2*s1*s0*s3*s2*s1*s0*s4*s3*s0*s3*s4*s3*s2*(s1*s0)^2*s4*s0*s1*s4\n",
      "True\n"
     ]
    }
   ],
   "source": [
    "print(ack)\n",
    "print(bck)\n",
    "print(ack==bck)"
   ]
  }
 ],
 "metadata": {
  "kernelspec": {
   "display_name": "SageMath 9.2",
   "language": "sage",
   "name": "sagemath"
  },
  "language_info": {
   "codemirror_mode": {
    "name": "ipython",
    "version": 3
   },
   "file_extension": ".py",
   "mimetype": "text/x-python",
   "name": "python",
   "nbconvert_exporter": "python",
   "pygments_lexer": "ipython3",
   "version": "3.8.5"
  }
 },
 "nbformat": 4,
 "nbformat_minor": 4
}
