{
 "cells": [
  {
   "cell_type": "code",
   "execution_count": null,
   "metadata": {},
   "outputs": [],
   "source": [
    "from functools import *\n",
    "import random\n",
    "import timeit"
   ]
  },
  {
   "cell_type": "code",
   "execution_count": null,
   "metadata": {},
   "outputs": [],
   "source": [
    "class Ko_Lee:\n",
    "    def __init__(self, n, public_key, length):\n",
    "        self.n = n\n",
    "        self.length = length\n",
    "        self.Bn = BraidGroup(n)\n",
    "        self.public_key = public_key\n",
    "        \n",
    "    @classmethod\n",
    "    def generate_public_key(cls, n, length):\n",
    "        Bn = BraidGroup(n)\n",
    "        index_generators = list(range(-1*(n)+1, n))\n",
    "        index_generators.remove(0)\n",
    "        return Bn(random.choices(index_generators, k = 12*length))\n",
    "    \n",
    "    def generate_private_key(self, member):\n",
    "        m = self.n//2\n",
    "        index_generators_sub = [];\n",
    "        \n",
    "        if member == 0:\n",
    "            index_generators_sub = list(range(1, m)) + list(range(-m+1, 0))\n",
    "        else:\n",
    "            index_generators_sub = list(range(m+1, self.n)) + list(range(-self.n+1, -m))\n",
    "        \n",
    "        self.private_key = self.Bn(random.choices(index_generators_sub, k = 12*self.length))\n",
    "    \n",
    "    def message(self):\n",
    "        return self.lnf(self.private_key*self.public_key*(self.private_key^-1))\n",
    "    \n",
    "    def commonKey(self, message):\n",
    "        return self.lnf(self.private_key*message*(self.private_key^-1))\n",
    "    \n",
    "    def lnf(self,braid):\n",
    "        normal = self.Bn([1,-1])\n",
    "        tup = braid.left_normal_form()\n",
    "\n",
    "        for i in range(len(tup)):\n",
    "            normal = normal*tup[i]\n",
    "        \n",
    "        return normal\n",
    "        \n",
    "\n",
    "        "
   ]
  },
  {
   "cell_type": "code",
   "execution_count": null,
   "metadata": {},
   "outputs": [],
   "source": [
    "def measure(i,j, iterations):\n",
    "    m = []\n",
    "    for k in range(iterations):\n",
    "        start = timeit.default_timer()\n",
    "        pK = Ko_Lee.generate_public_key(i,j)\n",
    "        A = Ko_Lee(i, pK, j)\n",
    "        B = Ko_Lee(i, pK, j)\n",
    "        A.generate_private_key(0)\n",
    "        B.generate_private_key(1)\n",
    "        aM = A.message()\n",
    "        bM = B.message()\n",
    "        commonKeyA = A.commonKey(bM)\n",
    "        end = timeit.default_timer()\n",
    "        m.append(end-start)\n",
    "        if (end-start) > 300:\n",
    "            break\n",
    "    if len(m) > 1:\n",
    "        stdes = std(m)\n",
    "    else:\n",
    "        stdes = 0;\n",
    "    \n",
    "    return len(m), mean(m), stdes, min(m), max(m)"
   ]
  },
  {
   "cell_type": "code",
   "execution_count": null,
   "metadata": {},
   "outputs": [],
   "source": [
    "def test(n_min,m_max,n_s,l_min,l_max,l_s):\n",
    "    print(\"size_sample,n,l,time,std,min,max\")\n",
    "    for i in range(n_min,m_max+1,n_s):\n",
    "        for j in range(l_min,l_max+1,l_s):\n",
    "            s, t, st, minimo, maximo= measure(i,j,3)\n",
    "            print(s, \",\", i,\",\",j,\",\", t,\",\", st, \",\", minimo,\",\",maximo)\n",
    "            "
   ]
  },
  {
   "cell_type": "code",
   "execution_count": null,
   "metadata": {},
   "outputs": [],
   "source": [
    "random.seed(10)"
   ]
  },
  {
   "cell_type": "code",
   "execution_count": null,
   "metadata": {
    "scrolled": true
   },
   "outputs": [],
   "source": [
    "test(5,25,5,5,10,5)"
   ]
  },
  {
   "cell_type": "code",
   "execution_count": null,
   "metadata": {},
   "outputs": [],
   "source": [
    "pK = Koo_Lee.generate_public_key(6)\n",
    "print(pK)"
   ]
  },
  {
   "cell_type": "code",
   "execution_count": null,
   "metadata": {
    "scrolled": true
   },
   "outputs": [],
   "source": [
    "A = Koo_Lee(6, pK)\n",
    "B = Koo_Lee(6, pK)"
   ]
  },
  {
   "cell_type": "code",
   "execution_count": null,
   "metadata": {},
   "outputs": [],
   "source": [
    "A.generate_private_key(0)\n",
    "B.generate_private_key(1)"
   ]
  },
  {
   "cell_type": "code",
   "execution_count": null,
   "metadata": {},
   "outputs": [],
   "source": [
    "aM = A.message()\n",
    "bM = B.message()"
   ]
  },
  {
   "cell_type": "code",
   "execution_count": null,
   "metadata": {},
   "outputs": [],
   "source": [
    "ack = A.commonKey(bM)\n",
    "bck = B.commonKey(aM)"
   ]
  },
  {
   "cell_type": "code",
   "execution_count": null,
   "metadata": {},
   "outputs": [],
   "source": [
    "print(ack)\n",
    "print(bck)\n",
    "print(ack==bck)"
   ]
  },
  {
   "cell_type": "code",
   "execution_count": null,
   "metadata": {
    "scrolled": true
   },
   "outputs": [],
   "source": [
    "n=10\n",
    "Bn = BraidGroup(n)\n",
    "index_generators = list(range(-1*(n)+1, n))\n",
    "index_generators.remove(0)\n",
    "trenza = Bn(random.choices(index_generators, k = 12*5))\n",
    "trenza.left_normal_form()"
   ]
  }
 ],
 "metadata": {
  "kernelspec": {
   "display_name": "SageMath 9.2",
   "language": "sage",
   "name": "sagemath"
  },
  "language_info": {
   "codemirror_mode": {
    "name": "ipython",
    "version": 3
   },
   "file_extension": ".py",
   "mimetype": "text/x-python",
   "name": "python",
   "nbconvert_exporter": "python",
   "pygments_lexer": "ipython3",
   "version": "3.8.5"
  }
 },
 "nbformat": 4,
 "nbformat_minor": 4
}
