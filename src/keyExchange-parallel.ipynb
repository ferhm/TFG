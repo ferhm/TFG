{
 "cells": [
  {
   "cell_type": "code",
   "execution_count": 1,
   "metadata": {},
   "outputs": [],
   "source": [
    "from functools import *\n",
    "import random\n",
    "import timeit\n",
    "from multiprocessing import Pool"
   ]
  },
  {
   "cell_type": "code",
   "execution_count": 2,
   "metadata": {},
   "outputs": [
    {
     "name": "stdout",
     "output_type": "stream",
     "text": [
      "3.003297995000139\n"
     ]
    }
   ],
   "source": [
    "start = timeit.default_timer()\n",
    "sleep(3)\n",
    "end = timeit.default_timer()\n",
    "print(end-start)"
   ]
  },
  {
   "cell_type": "code",
   "execution_count": 3,
   "metadata": {},
   "outputs": [],
   "source": [
    "class AnshelAnshelGoldfeld:\n",
    "    \n",
    "    def __init__(self, n, keyLength):\n",
    "        self.n = n\n",
    "        self.Bn = BraidGroup(n)\n",
    "        self.keyLength = keyLength\n",
    "        \n",
    "        #Creamos una lista con los índices de las trenzas de la llave pública y sus inversas y a partir\n",
    "        # de esta creamos la función que creará la llave privada\n",
    "        index_public_key = list(range(-1*(self.keyLength), self.keyLength+1))\n",
    "        index_public_key.remove(0)\n",
    "        self.func = random.choices(index_public_key, k = random.randint(5,10))\n",
    "        \n",
    "        self.generatePublicKey()\n",
    "        self.generatePrivateKey()\n",
    "\n",
    "        \n",
    "    #Creamos una lista con los generadores y sus inversos a partir de la cual crearemos las\n",
    "    #trenzas de la llave pública cuya longitud de palabra estará entre 5 y 10\n",
    "    def generatePublicKey(self):\n",
    "        self.publicKey = []\n",
    "        index_generators = list(range(-1*(self.n)+1, self.n))\n",
    "        index_generators.remove(0)\n",
    "        \n",
    "        for i in range(self.keyLength):\n",
    "            randomList = random.choices(index_generators, k = random.randint(5,10))\n",
    "            self.publicKey.append(self.Bn(randomList))\n",
    "\n",
    "            \n",
    "    def keyFunction(self, f, l):\n",
    "        key = self.Bn([1,-1])\n",
    "\n",
    "        for i in f:\n",
    "            if i > 0:\n",
    "                aux = l[i-1]\n",
    "            else:\n",
    "                aux = (l[-1*i-1]^-1)\n",
    "            \n",
    "            key = key * aux\n",
    "\n",
    "        return key\n",
    "            \n",
    "    def generatePrivateKey(self):\n",
    "        self.privateKey = self.keyFunction(self.func, self.publicKey)\n",
    "        \n",
    "    def messages(self, publicKeyReceiver):\n",
    "        message = []\n",
    "        \n",
    "        for t in publicKeyReceiver:\n",
    "            message.append(self.lnf(self.privateKey*t*(self.privateKey^-1)))\n",
    "            \n",
    "        \n",
    "        \n",
    "        return message\n",
    "    \n",
    "    def commonKey(self, message, participant):\n",
    "        if(participant == 0):\n",
    "            key = self.privateKey*(self.keyFunction(self.func, message)^-1)\n",
    "        else:\n",
    "            key = self.keyFunction(self.func, message)*(self.privateKey^-1)\n",
    "\n",
    "        return self.lnf(key)\n",
    "    \n",
    "    def lnf(self,braid):\n",
    "        normal = self.Bn([1,-1])\n",
    "        tup = braid.left_normal_form()\n",
    "\n",
    "        for i in range(len(tup)):\n",
    "            normal = normal*tup[i]\n",
    "        \n",
    "        return normal\n",
    "        "
   ]
  },
  {
   "cell_type": "code",
   "execution_count": 10,
   "metadata": {},
   "outputs": [],
   "source": [
    "def measure(i,j, iterations):\n",
    "    m = []\n",
    "    for k in range(iterations):\n",
    "        start = timeit.default_timer()\n",
    "        A = AnshelAnshelGoldfeld(i,j)\n",
    "        B = AnshelAnshelGoldfeld(i,j)\n",
    "        messageA = A.messages(B.publicKey)\n",
    "        messageB = B.messages(A.publicKey)\n",
    "        commonKeyA = A.commonKey(messageB, 0)\n",
    "        end = timeit.default_timer()\n",
    "        #commonKeyB = B.commonKey(messageA, 1)\n",
    "        m.append(end-start)\n",
    "        if (end-start) > 300:\n",
    "            break\n",
    "    \n",
    "    return len(m), mean(m), std(m), min(m), max(m), true#commonKeyA == commonKeyB"
   ]
  },
  {
   "cell_type": "code",
   "execution_count": 11,
   "metadata": {},
   "outputs": [],
   "source": [
    "def test(n_min,m_max,n_s,l_min,l_max,l_s):\n",
    "    print(\"size_sample  n    l    time                std               min               max           success\")\n",
    "    for i in range(n_min,m_max,n_s):\n",
    "        for j in range(l_min,l_max,l_s):\n",
    "            s, t, st, minimo, maximo, success = measure(i,j,3)\n",
    "            print(s, \"  \", i,\"  \",j,\"  \", t,\"  \", st, \"  \", minimo,\"  \",maximo,\"  \", success)\n",
    "            \n",
    "            \n",
    "    "
   ]
  },
  {
   "cell_type": "code",
   "execution_count": 17,
   "metadata": {},
   "outputs": [],
   "source": [
    "random.seed(10)"
   ]
  },
  {
   "cell_type": "code",
   "execution_count": 18,
   "metadata": {
    "scrolled": true
   },
   "outputs": [
    {
     "name": "stdout",
     "output_type": "stream",
     "text": [
      "size_sample  n    l    time                std               min               max           success\n",
      "3    5    10    22.4615286916669    21.39860042405343    9.52497846299957    47.161214921001374    True\n",
      "3    5    11    34.605962420667005    26.060772012366094    15.477401755000756    64.28833071000008    True\n"
     ]
    },
    {
     "ename": "KeyboardInterrupt",
     "evalue": "",
     "output_type": "error",
     "traceback": [
      "\u001b[0;31m---------------------------------------------------------------------------\u001b[0m",
      "\u001b[0;31mKeyboardInterrupt\u001b[0m                         Traceback (most recent call last)",
      "\u001b[0;32m<ipython-input-18-9da76044be07>\u001b[0m in \u001b[0;36m<module>\u001b[0;34m\u001b[0m\n\u001b[0;32m----> 1\u001b[0;31m \u001b[0mtest\u001b[0m\u001b[0;34m(\u001b[0m\u001b[0mInteger\u001b[0m\u001b[0;34m(\u001b[0m\u001b[0;36m5\u001b[0m\u001b[0;34m)\u001b[0m\u001b[0;34m,\u001b[0m\u001b[0mInteger\u001b[0m\u001b[0;34m(\u001b[0m\u001b[0;36m10\u001b[0m\u001b[0;34m)\u001b[0m\u001b[0;34m,\u001b[0m\u001b[0mInteger\u001b[0m\u001b[0;34m(\u001b[0m\u001b[0;36m1\u001b[0m\u001b[0;34m)\u001b[0m\u001b[0;34m,\u001b[0m\u001b[0mInteger\u001b[0m\u001b[0;34m(\u001b[0m\u001b[0;36m10\u001b[0m\u001b[0;34m)\u001b[0m\u001b[0;34m,\u001b[0m\u001b[0mInteger\u001b[0m\u001b[0;34m(\u001b[0m\u001b[0;36m15\u001b[0m\u001b[0;34m)\u001b[0m\u001b[0;34m,\u001b[0m\u001b[0mInteger\u001b[0m\u001b[0;34m(\u001b[0m\u001b[0;36m1\u001b[0m\u001b[0;34m)\u001b[0m\u001b[0;34m)\u001b[0m\u001b[0;34m\u001b[0m\u001b[0;34m\u001b[0m\u001b[0m\n\u001b[0m",
      "\u001b[0;32m<ipython-input-11-39faa33d4168>\u001b[0m in \u001b[0;36mtest\u001b[0;34m(n_min, m_max, n_s, l_min, l_max, l_s)\u001b[0m\n\u001b[1;32m      3\u001b[0m     \u001b[0;32mfor\u001b[0m \u001b[0mi\u001b[0m \u001b[0;32min\u001b[0m \u001b[0mrange\u001b[0m\u001b[0;34m(\u001b[0m\u001b[0mn_min\u001b[0m\u001b[0;34m,\u001b[0m\u001b[0mm_max\u001b[0m\u001b[0;34m,\u001b[0m\u001b[0mn_s\u001b[0m\u001b[0;34m)\u001b[0m\u001b[0;34m:\u001b[0m\u001b[0;34m\u001b[0m\u001b[0;34m\u001b[0m\u001b[0m\n\u001b[1;32m      4\u001b[0m         \u001b[0;32mfor\u001b[0m \u001b[0mj\u001b[0m \u001b[0;32min\u001b[0m \u001b[0mrange\u001b[0m\u001b[0;34m(\u001b[0m\u001b[0ml_min\u001b[0m\u001b[0;34m,\u001b[0m\u001b[0ml_max\u001b[0m\u001b[0;34m,\u001b[0m\u001b[0ml_s\u001b[0m\u001b[0;34m)\u001b[0m\u001b[0;34m:\u001b[0m\u001b[0;34m\u001b[0m\u001b[0;34m\u001b[0m\u001b[0m\n\u001b[0;32m----> 5\u001b[0;31m             \u001b[0ms\u001b[0m\u001b[0;34m,\u001b[0m \u001b[0mt\u001b[0m\u001b[0;34m,\u001b[0m \u001b[0mst\u001b[0m\u001b[0;34m,\u001b[0m \u001b[0mminimo\u001b[0m\u001b[0;34m,\u001b[0m \u001b[0mmaximo\u001b[0m\u001b[0;34m,\u001b[0m \u001b[0msuccess\u001b[0m \u001b[0;34m=\u001b[0m \u001b[0mmeasure\u001b[0m\u001b[0;34m(\u001b[0m\u001b[0mi\u001b[0m\u001b[0;34m,\u001b[0m\u001b[0mj\u001b[0m\u001b[0;34m,\u001b[0m\u001b[0mInteger\u001b[0m\u001b[0;34m(\u001b[0m\u001b[0;36m3\u001b[0m\u001b[0;34m)\u001b[0m\u001b[0;34m)\u001b[0m\u001b[0;34m\u001b[0m\u001b[0;34m\u001b[0m\u001b[0m\n\u001b[0m\u001b[1;32m      6\u001b[0m             \u001b[0mprint\u001b[0m\u001b[0;34m(\u001b[0m\u001b[0ms\u001b[0m\u001b[0;34m,\u001b[0m \u001b[0;34m\"  \"\u001b[0m\u001b[0;34m,\u001b[0m \u001b[0mi\u001b[0m\u001b[0;34m,\u001b[0m\u001b[0;34m\"  \"\u001b[0m\u001b[0;34m,\u001b[0m\u001b[0mj\u001b[0m\u001b[0;34m,\u001b[0m\u001b[0;34m\"  \"\u001b[0m\u001b[0;34m,\u001b[0m \u001b[0mt\u001b[0m\u001b[0;34m,\u001b[0m\u001b[0;34m\"  \"\u001b[0m\u001b[0;34m,\u001b[0m \u001b[0mst\u001b[0m\u001b[0;34m,\u001b[0m \u001b[0;34m\"  \"\u001b[0m\u001b[0;34m,\u001b[0m \u001b[0mminimo\u001b[0m\u001b[0;34m,\u001b[0m\u001b[0;34m\"  \"\u001b[0m\u001b[0;34m,\u001b[0m\u001b[0mmaximo\u001b[0m\u001b[0;34m,\u001b[0m\u001b[0;34m\"  \"\u001b[0m\u001b[0;34m,\u001b[0m \u001b[0msuccess\u001b[0m\u001b[0;34m)\u001b[0m\u001b[0;34m\u001b[0m\u001b[0;34m\u001b[0m\u001b[0m\n\u001b[1;32m      7\u001b[0m \u001b[0;34m\u001b[0m\u001b[0m\n",
      "\u001b[0;32m<ipython-input-10-b25b179e41db>\u001b[0m in \u001b[0;36mmeasure\u001b[0;34m(i, j, iterations)\u001b[0m\n\u001b[1;32m      7\u001b[0m         \u001b[0mmessageA\u001b[0m \u001b[0;34m=\u001b[0m \u001b[0mA\u001b[0m\u001b[0;34m.\u001b[0m\u001b[0mmessages\u001b[0m\u001b[0;34m(\u001b[0m\u001b[0mB\u001b[0m\u001b[0;34m.\u001b[0m\u001b[0mpublicKey\u001b[0m\u001b[0;34m)\u001b[0m\u001b[0;34m\u001b[0m\u001b[0;34m\u001b[0m\u001b[0m\n\u001b[1;32m      8\u001b[0m         \u001b[0mmessageB\u001b[0m \u001b[0;34m=\u001b[0m \u001b[0mB\u001b[0m\u001b[0;34m.\u001b[0m\u001b[0mmessages\u001b[0m\u001b[0;34m(\u001b[0m\u001b[0mA\u001b[0m\u001b[0;34m.\u001b[0m\u001b[0mpublicKey\u001b[0m\u001b[0;34m)\u001b[0m\u001b[0;34m\u001b[0m\u001b[0;34m\u001b[0m\u001b[0m\n\u001b[0;32m----> 9\u001b[0;31m         \u001b[0mcommonKeyA\u001b[0m \u001b[0;34m=\u001b[0m \u001b[0mA\u001b[0m\u001b[0;34m.\u001b[0m\u001b[0mcommonKey\u001b[0m\u001b[0;34m(\u001b[0m\u001b[0mmessageB\u001b[0m\u001b[0;34m,\u001b[0m \u001b[0mInteger\u001b[0m\u001b[0;34m(\u001b[0m\u001b[0;36m0\u001b[0m\u001b[0;34m)\u001b[0m\u001b[0;34m)\u001b[0m\u001b[0;34m\u001b[0m\u001b[0;34m\u001b[0m\u001b[0m\n\u001b[0m\u001b[1;32m     10\u001b[0m         \u001b[0mend\u001b[0m \u001b[0;34m=\u001b[0m \u001b[0mtimeit\u001b[0m\u001b[0;34m.\u001b[0m\u001b[0mdefault_timer\u001b[0m\u001b[0;34m(\u001b[0m\u001b[0;34m)\u001b[0m\u001b[0;34m\u001b[0m\u001b[0;34m\u001b[0m\u001b[0m\n\u001b[1;32m     11\u001b[0m         \u001b[0;31m#commonKeyB = B.commonKey(messageA, 1)\u001b[0m\u001b[0;34m\u001b[0m\u001b[0;34m\u001b[0m\u001b[0;34m\u001b[0m\u001b[0m\n",
      "\u001b[0;32m<ipython-input-3-f9f95c058d27>\u001b[0m in \u001b[0;36mcommonKey\u001b[0;34m(self, message, participant)\u001b[0m\n\u001b[1;32m     60\u001b[0m             \u001b[0mkey\u001b[0m \u001b[0;34m=\u001b[0m \u001b[0mself\u001b[0m\u001b[0;34m.\u001b[0m\u001b[0mkeyFunction\u001b[0m\u001b[0;34m(\u001b[0m\u001b[0mself\u001b[0m\u001b[0;34m.\u001b[0m\u001b[0mfunc\u001b[0m\u001b[0;34m,\u001b[0m \u001b[0mmessage\u001b[0m\u001b[0;34m)\u001b[0m\u001b[0;34m*\u001b[0m\u001b[0;34m(\u001b[0m\u001b[0mself\u001b[0m\u001b[0;34m.\u001b[0m\u001b[0mprivateKey\u001b[0m\u001b[0;34m**\u001b[0m\u001b[0;34m-\u001b[0m\u001b[0mInteger\u001b[0m\u001b[0;34m(\u001b[0m\u001b[0;36m1\u001b[0m\u001b[0;34m)\u001b[0m\u001b[0;34m)\u001b[0m\u001b[0;34m\u001b[0m\u001b[0;34m\u001b[0m\u001b[0m\n\u001b[1;32m     61\u001b[0m \u001b[0;34m\u001b[0m\u001b[0m\n\u001b[0;32m---> 62\u001b[0;31m         \u001b[0;32mreturn\u001b[0m \u001b[0mself\u001b[0m\u001b[0;34m.\u001b[0m\u001b[0mlnf\u001b[0m\u001b[0;34m(\u001b[0m\u001b[0mkey\u001b[0m\u001b[0;34m)\u001b[0m\u001b[0;34m\u001b[0m\u001b[0;34m\u001b[0m\u001b[0m\n\u001b[0m\u001b[1;32m     63\u001b[0m \u001b[0;34m\u001b[0m\u001b[0m\n\u001b[1;32m     64\u001b[0m     \u001b[0;32mdef\u001b[0m \u001b[0mlnf\u001b[0m\u001b[0;34m(\u001b[0m\u001b[0mself\u001b[0m\u001b[0;34m,\u001b[0m\u001b[0mbraid\u001b[0m\u001b[0;34m)\u001b[0m\u001b[0;34m:\u001b[0m\u001b[0;34m\u001b[0m\u001b[0;34m\u001b[0m\u001b[0m\n",
      "\u001b[0;32m<ipython-input-3-f9f95c058d27>\u001b[0m in \u001b[0;36mlnf\u001b[0;34m(self, braid)\u001b[0m\n\u001b[1;32m     64\u001b[0m     \u001b[0;32mdef\u001b[0m \u001b[0mlnf\u001b[0m\u001b[0;34m(\u001b[0m\u001b[0mself\u001b[0m\u001b[0;34m,\u001b[0m\u001b[0mbraid\u001b[0m\u001b[0;34m)\u001b[0m\u001b[0;34m:\u001b[0m\u001b[0;34m\u001b[0m\u001b[0;34m\u001b[0m\u001b[0m\n\u001b[1;32m     65\u001b[0m         \u001b[0mnormal\u001b[0m \u001b[0;34m=\u001b[0m \u001b[0mself\u001b[0m\u001b[0;34m.\u001b[0m\u001b[0mBn\u001b[0m\u001b[0;34m(\u001b[0m\u001b[0;34m[\u001b[0m\u001b[0mInteger\u001b[0m\u001b[0;34m(\u001b[0m\u001b[0;36m1\u001b[0m\u001b[0;34m)\u001b[0m\u001b[0;34m,\u001b[0m\u001b[0;34m-\u001b[0m\u001b[0mInteger\u001b[0m\u001b[0;34m(\u001b[0m\u001b[0;36m1\u001b[0m\u001b[0;34m)\u001b[0m\u001b[0;34m]\u001b[0m\u001b[0;34m)\u001b[0m\u001b[0;34m\u001b[0m\u001b[0;34m\u001b[0m\u001b[0m\n\u001b[0;32m---> 66\u001b[0;31m         \u001b[0mtup\u001b[0m \u001b[0;34m=\u001b[0m \u001b[0mbraid\u001b[0m\u001b[0;34m.\u001b[0m\u001b[0mleft_normal_form\u001b[0m\u001b[0;34m(\u001b[0m\u001b[0;34m)\u001b[0m\u001b[0;34m\u001b[0m\u001b[0;34m\u001b[0m\u001b[0m\n\u001b[0m\u001b[1;32m     67\u001b[0m \u001b[0;34m\u001b[0m\u001b[0m\n\u001b[1;32m     68\u001b[0m         \u001b[0;32mfor\u001b[0m \u001b[0mi\u001b[0m \u001b[0;32min\u001b[0m \u001b[0mrange\u001b[0m\u001b[0;34m(\u001b[0m\u001b[0mlen\u001b[0m\u001b[0;34m(\u001b[0m\u001b[0mtup\u001b[0m\u001b[0;34m)\u001b[0m\u001b[0;34m)\u001b[0m\u001b[0;34m:\u001b[0m\u001b[0;34m\u001b[0m\u001b[0;34m\u001b[0m\u001b[0m\n",
      "\u001b[0;32m/opt/SageMath/local/lib/python3.8/site-packages/sage/misc/cachefunc.pyx\u001b[0m in \u001b[0;36msage.misc.cachefunc.CachedMethodCallerNoArgs.__call__ (build/cythonized/sage/misc/cachefunc.c:12907)\u001b[0;34m()\u001b[0m\n\u001b[1;32m   2308\u001b[0m         \u001b[0;32mif\u001b[0m \u001b[0mself\u001b[0m\u001b[0;34m.\u001b[0m\u001b[0mcache\u001b[0m \u001b[0;32mis\u001b[0m \u001b[0;32mNone\u001b[0m\u001b[0;34m:\u001b[0m\u001b[0;34m\u001b[0m\u001b[0;34m\u001b[0m\u001b[0m\n\u001b[1;32m   2309\u001b[0m             \u001b[0mf\u001b[0m \u001b[0;34m=\u001b[0m \u001b[0mself\u001b[0m\u001b[0;34m.\u001b[0m\u001b[0mf\u001b[0m\u001b[0;34m\u001b[0m\u001b[0;34m\u001b[0m\u001b[0m\n\u001b[0;32m-> 2310\u001b[0;31m             \u001b[0mself\u001b[0m\u001b[0;34m.\u001b[0m\u001b[0mcache\u001b[0m \u001b[0;34m=\u001b[0m \u001b[0mf\u001b[0m\u001b[0;34m(\u001b[0m\u001b[0mself\u001b[0m\u001b[0;34m.\u001b[0m\u001b[0m_instance\u001b[0m\u001b[0;34m)\u001b[0m\u001b[0;34m\u001b[0m\u001b[0;34m\u001b[0m\u001b[0m\n\u001b[0m\u001b[1;32m   2311\u001b[0m         \u001b[0;32mreturn\u001b[0m \u001b[0mself\u001b[0m\u001b[0;34m.\u001b[0m\u001b[0mcache\u001b[0m\u001b[0;34m\u001b[0m\u001b[0;34m\u001b[0m\u001b[0m\n\u001b[1;32m   2312\u001b[0m \u001b[0;34m\u001b[0m\u001b[0m\n",
      "\u001b[0;32m/opt/SageMath/local/lib/python3.8/site-packages/sage/groups/artin.py\u001b[0m in \u001b[0;36mleft_normal_form\u001b[0;34m(self)\u001b[0m\n\u001b[1;32m    214\u001b[0m             \u001b[0;34m(\u001b[0m\u001b[0;36m1\u001b[0m\u001b[0;34m,\u001b[0m \u001b[0ms0\u001b[0m\u001b[0;34m)\u001b[0m\u001b[0;34m\u001b[0m\u001b[0;34m\u001b[0m\u001b[0m\n\u001b[1;32m    215\u001b[0m         \"\"\"\n\u001b[0;32m--> 216\u001b[0;31m         \u001b[0mlnfp\u001b[0m \u001b[0;34m=\u001b[0m \u001b[0mself\u001b[0m\u001b[0;34m.\u001b[0m\u001b[0m_left_normal_form_coxeter\u001b[0m\u001b[0;34m(\u001b[0m\u001b[0;34m)\u001b[0m\u001b[0;34m\u001b[0m\u001b[0;34m\u001b[0m\u001b[0m\n\u001b[0m\u001b[1;32m    217\u001b[0m         \u001b[0mP\u001b[0m \u001b[0;34m=\u001b[0m \u001b[0mself\u001b[0m\u001b[0;34m.\u001b[0m\u001b[0mparent\u001b[0m\u001b[0;34m(\u001b[0m\u001b[0;34m)\u001b[0m\u001b[0;34m\u001b[0m\u001b[0;34m\u001b[0m\u001b[0m\n\u001b[1;32m    218\u001b[0m         return tuple([P.delta() ** lnfp[0]] +\n",
      "\u001b[0;32m/opt/SageMath/local/lib/python3.8/site-packages/sage/groups/braid.py\u001b[0m in \u001b[0;36m_left_normal_form_coxeter\u001b[0;34m(self)\u001b[0m\n\u001b[1;32m   1039\u001b[0m             \u001b[0;32melse\u001b[0m\u001b[0;34m:\u001b[0m\u001b[0;34m\u001b[0m\u001b[0;34m\u001b[0m\u001b[0m\n\u001b[1;32m   1040\u001b[0m                 \u001b[0mdelta\u001b[0m \u001b[0;34m+=\u001b[0m \u001b[0;36m1\u001b[0m\u001b[0;34m\u001b[0m\u001b[0;34m\u001b[0m\u001b[0m\n\u001b[0;32m-> 1041\u001b[0;31m                 \u001b[0mform\u001b[0m \u001b[0;34m=\u001b[0m \u001b[0;34m[\u001b[0m\u001b[0mDelta\u001b[0m \u001b[0;34m*\u001b[0m \u001b[0ma\u001b[0m \u001b[0;34m*\u001b[0m \u001b[0mDelta\u001b[0m \u001b[0;32mfor\u001b[0m \u001b[0ma\u001b[0m \u001b[0;32min\u001b[0m \u001b[0mform\u001b[0m\u001b[0;34m]\u001b[0m\u001b[0;34m\u001b[0m\u001b[0;34m\u001b[0m\u001b[0m\n\u001b[0m\u001b[1;32m   1042\u001b[0m                 \u001b[0mform\u001b[0m\u001b[0;34m.\u001b[0m\u001b[0mappend\u001b[0m\u001b[0;34m(\u001b[0m\u001b[0mDelta\u001b[0m \u001b[0;34m*\u001b[0m \u001b[0msr\u001b[0m\u001b[0;34m[\u001b[0m\u001b[0;34m-\u001b[0m\u001b[0mi\u001b[0m\u001b[0;34m]\u001b[0m\u001b[0;34m)\u001b[0m\u001b[0;34m\u001b[0m\u001b[0;34m\u001b[0m\u001b[0m\n\u001b[1;32m   1043\u001b[0m         \u001b[0mi\u001b[0m \u001b[0;34m=\u001b[0m \u001b[0mj\u001b[0m \u001b[0;34m=\u001b[0m \u001b[0;36m0\u001b[0m\u001b[0;34m\u001b[0m\u001b[0;34m\u001b[0m\u001b[0m\n",
      "\u001b[0;32m/opt/SageMath/local/lib/python3.8/site-packages/sage/groups/braid.py\u001b[0m in \u001b[0;36m<listcomp>\u001b[0;34m(.0)\u001b[0m\n\u001b[1;32m   1039\u001b[0m             \u001b[0;32melse\u001b[0m\u001b[0;34m:\u001b[0m\u001b[0;34m\u001b[0m\u001b[0;34m\u001b[0m\u001b[0m\n\u001b[1;32m   1040\u001b[0m                 \u001b[0mdelta\u001b[0m \u001b[0;34m+=\u001b[0m \u001b[0;36m1\u001b[0m\u001b[0;34m\u001b[0m\u001b[0;34m\u001b[0m\u001b[0m\n\u001b[0;32m-> 1041\u001b[0;31m                 \u001b[0mform\u001b[0m \u001b[0;34m=\u001b[0m \u001b[0;34m[\u001b[0m\u001b[0mDelta\u001b[0m \u001b[0;34m*\u001b[0m \u001b[0ma\u001b[0m \u001b[0;34m*\u001b[0m \u001b[0mDelta\u001b[0m \u001b[0;32mfor\u001b[0m \u001b[0ma\u001b[0m \u001b[0;32min\u001b[0m \u001b[0mform\u001b[0m\u001b[0;34m]\u001b[0m\u001b[0;34m\u001b[0m\u001b[0;34m\u001b[0m\u001b[0m\n\u001b[0m\u001b[1;32m   1042\u001b[0m                 \u001b[0mform\u001b[0m\u001b[0;34m.\u001b[0m\u001b[0mappend\u001b[0m\u001b[0;34m(\u001b[0m\u001b[0mDelta\u001b[0m \u001b[0;34m*\u001b[0m \u001b[0msr\u001b[0m\u001b[0;34m[\u001b[0m\u001b[0;34m-\u001b[0m\u001b[0mi\u001b[0m\u001b[0;34m]\u001b[0m\u001b[0;34m)\u001b[0m\u001b[0;34m\u001b[0m\u001b[0;34m\u001b[0m\u001b[0m\n\u001b[1;32m   1043\u001b[0m         \u001b[0mi\u001b[0m \u001b[0;34m=\u001b[0m \u001b[0mj\u001b[0m \u001b[0;34m=\u001b[0m \u001b[0;36m0\u001b[0m\u001b[0;34m\u001b[0m\u001b[0;34m\u001b[0m\u001b[0m\n",
      "\u001b[0;32m/opt/SageMath/local/lib/python3.8/site-packages/sage/combinat/permutation.py\u001b[0m in \u001b[0;36m__mul__\u001b[0;34m(self, other)\u001b[0m\n\u001b[1;32m   7057\u001b[0m                 \u001b[0;32mreturn\u001b[0m \u001b[0mPermutations\u001b[0m\u001b[0;34m(\u001b[0m\u001b[0mlen\u001b[0m\u001b[0;34m(\u001b[0m\u001b[0mp\u001b[0m\u001b[0;34m)\u001b[0m\u001b[0;34m)\u001b[0m\u001b[0;34m(\u001b[0m\u001b[0mp\u001b[0m\u001b[0;34m)\u001b[0m\u001b[0;34m\u001b[0m\u001b[0;34m\u001b[0m\u001b[0m\n\u001b[1;32m   7058\u001b[0m             \u001b[0;31m# They have the same parent\u001b[0m\u001b[0;34m\u001b[0m\u001b[0;34m\u001b[0m\u001b[0;34m\u001b[0m\u001b[0m\n\u001b[0;32m-> 7059\u001b[0;31m             \u001b[0;32mreturn\u001b[0m \u001b[0mself\u001b[0m\u001b[0;34m.\u001b[0m\u001b[0m_mul_\u001b[0m\u001b[0;34m(\u001b[0m\u001b[0mother\u001b[0m\u001b[0;34m)\u001b[0m\u001b[0;34m\u001b[0m\u001b[0;34m\u001b[0m\u001b[0m\n\u001b[0m\u001b[1;32m   7060\u001b[0m \u001b[0;34m\u001b[0m\u001b[0m\n\u001b[1;32m   7061\u001b[0m         \u001b[0;32mdef\u001b[0m \u001b[0m_mul_\u001b[0m\u001b[0;34m(\u001b[0m\u001b[0mself\u001b[0m\u001b[0;34m,\u001b[0m \u001b[0mother\u001b[0m\u001b[0;34m)\u001b[0m\u001b[0;34m:\u001b[0m\u001b[0;34m\u001b[0m\u001b[0;34m\u001b[0m\u001b[0m\n",
      "\u001b[0;32m/opt/SageMath/local/lib/python3.8/site-packages/sage/combinat/permutation.py\u001b[0m in \u001b[0;36m_mul_\u001b[0;34m(self, other)\u001b[0m\n\u001b[1;32m   7074\u001b[0m             \u001b[0;32melif\u001b[0m \u001b[0mmul_order\u001b[0m \u001b[0;34m==\u001b[0m \u001b[0;34m'r2l'\u001b[0m\u001b[0;34m:\u001b[0m\u001b[0;34m\u001b[0m\u001b[0;34m\u001b[0m\u001b[0m\n\u001b[1;32m   7075\u001b[0m                 \u001b[0mp\u001b[0m \u001b[0;34m=\u001b[0m \u001b[0mleft_action_same_n\u001b[0m\u001b[0;34m(\u001b[0m\u001b[0mself\u001b[0m\u001b[0;34m.\u001b[0m\u001b[0m_list\u001b[0m\u001b[0;34m,\u001b[0m \u001b[0mother\u001b[0m\u001b[0;34m.\u001b[0m\u001b[0m_list\u001b[0m\u001b[0;34m)\u001b[0m\u001b[0;34m\u001b[0m\u001b[0;34m\u001b[0m\u001b[0m\n\u001b[0;32m-> 7076\u001b[0;31m             \u001b[0;32mreturn\u001b[0m \u001b[0mself\u001b[0m\u001b[0;34m.\u001b[0m\u001b[0m__class__\u001b[0m\u001b[0;34m(\u001b[0m\u001b[0mself\u001b[0m\u001b[0;34m.\u001b[0m\u001b[0mparent\u001b[0m\u001b[0;34m(\u001b[0m\u001b[0;34m)\u001b[0m\u001b[0;34m,\u001b[0m \u001b[0mp\u001b[0m\u001b[0;34m)\u001b[0m\u001b[0;34m\u001b[0m\u001b[0;34m\u001b[0m\u001b[0m\n\u001b[0m\u001b[1;32m   7077\u001b[0m \u001b[0;34m\u001b[0m\u001b[0m\n\u001b[1;32m   7078\u001b[0m         \u001b[0;34m@\u001b[0m\u001b[0mcombinatorial_map\u001b[0m\u001b[0;34m(\u001b[0m\u001b[0morder\u001b[0m\u001b[0;34m=\u001b[0m\u001b[0;36m2\u001b[0m\u001b[0;34m,\u001b[0m \u001b[0mname\u001b[0m\u001b[0;34m=\u001b[0m\u001b[0;34m'inverse'\u001b[0m\u001b[0;34m)\u001b[0m\u001b[0;34m\u001b[0m\u001b[0;34m\u001b[0m\u001b[0m\n",
      "\u001b[0;32m/opt/SageMath/local/lib/python3.8/site-packages/sage/misc/classcall_metaclass.pyx\u001b[0m in \u001b[0;36msage.misc.classcall_metaclass.ClasscallMetaclass.__call__ (build/cythonized/sage/misc/classcall_metaclass.c:1787)\u001b[0;34m()\u001b[0m\n\u001b[1;32m    323\u001b[0m         \u001b[0;32melse\u001b[0m\u001b[0;34m:\u001b[0m\u001b[0;34m\u001b[0m\u001b[0;34m\u001b[0m\u001b[0m\n\u001b[1;32m    324\u001b[0m             \u001b[0;31m# Fast version of type.__call__(cls, *args, **kwds)\u001b[0m\u001b[0;34m\u001b[0m\u001b[0;34m\u001b[0m\u001b[0;34m\u001b[0m\u001b[0m\n\u001b[0;32m--> 325\u001b[0;31m             \u001b[0;32mreturn\u001b[0m \u001b[0;34m(\u001b[0m\u001b[0;34m<\u001b[0m\u001b[0mPyTypeObject\u001b[0m\u001b[0;34m*\u001b[0m\u001b[0;34m>\u001b[0m\u001b[0mtype\u001b[0m\u001b[0;34m)\u001b[0m\u001b[0;34m.\u001b[0m\u001b[0mtp_call\u001b[0m\u001b[0;34m(\u001b[0m\u001b[0mcls\u001b[0m\u001b[0;34m,\u001b[0m \u001b[0margs\u001b[0m\u001b[0;34m,\u001b[0m \u001b[0mkwds\u001b[0m\u001b[0;34m)\u001b[0m\u001b[0;34m\u001b[0m\u001b[0;34m\u001b[0m\u001b[0m\n\u001b[0m\u001b[1;32m    326\u001b[0m \u001b[0;34m\u001b[0m\u001b[0m\n\u001b[1;32m    327\u001b[0m     \u001b[0;32mdef\u001b[0m \u001b[0m__get__\u001b[0m\u001b[0;34m(\u001b[0m\u001b[0mcls\u001b[0m\u001b[0;34m,\u001b[0m \u001b[0minstance\u001b[0m\u001b[0;34m,\u001b[0m \u001b[0mowner\u001b[0m\u001b[0;34m)\u001b[0m\u001b[0;34m:\u001b[0m\u001b[0;34m\u001b[0m\u001b[0;34m\u001b[0m\u001b[0m\n",
      "\u001b[0;32m/opt/SageMath/local/lib/python3.8/site-packages/sage/combinat/permutation.py\u001b[0m in \u001b[0;36m__init__\u001b[0;34m(self, parent, l, check_input)\u001b[0m\n\u001b[1;32m    523\u001b[0m                     \u001b[0;32mraise\u001b[0m \u001b[0mValueError\u001b[0m\u001b[0;34m(\u001b[0m\u001b[0;34m\"the elements must be strictly positive integers\"\u001b[0m\u001b[0;34m)\u001b[0m\u001b[0;34m\u001b[0m\u001b[0;34m\u001b[0m\u001b[0m\n\u001b[1;32m    524\u001b[0m \u001b[0;34m\u001b[0m\u001b[0m\n\u001b[0;32m--> 525\u001b[0;31m             \u001b[0mlst\u001b[0m\u001b[0;34m.\u001b[0m\u001b[0msort\u001b[0m\u001b[0;34m(\u001b[0m\u001b[0;34m)\u001b[0m\u001b[0;34m\u001b[0m\u001b[0;34m\u001b[0m\u001b[0m\n\u001b[0m\u001b[1;32m    526\u001b[0m \u001b[0;34m\u001b[0m\u001b[0m\n\u001b[1;32m    527\u001b[0m             \u001b[0;31m# Is the maximum element of the permutation the length of input,\u001b[0m\u001b[0;34m\u001b[0m\u001b[0;34m\u001b[0m\u001b[0;34m\u001b[0m\u001b[0m\n",
      "\u001b[0;32msrc/cysignals/signals.pyx\u001b[0m in \u001b[0;36mcysignals.signals.python_check_interrupt\u001b[0;34m()\u001b[0m\n",
      "\u001b[0;31mKeyboardInterrupt\u001b[0m: "
     ]
    }
   ],
   "source": [
    "test(5,10,1,10,15,1)"
   ]
  },
  {
   "cell_type": "code",
   "execution_count": 11,
   "metadata": {},
   "outputs": [],
   "source": [
    "A = AnshelAnshelGoldfeld(6,4)\n",
    "B = AnshelAnshelGoldfeld(6,4)"
   ]
  },
  {
   "cell_type": "code",
   "execution_count": 4,
   "metadata": {},
   "outputs": [],
   "source": [
    "messageA = A.messages(B.publicKey)\n",
    "messageB = B.messages(A.publicKey)"
   ]
  },
  {
   "cell_type": "code",
   "execution_count": 5,
   "metadata": {},
   "outputs": [],
   "source": [
    "commonKeyA = A.commonKey(messageB, 0)\n",
    "commonKeyB = B.commonKey(messageA, 1)"
   ]
  },
  {
   "cell_type": "code",
   "execution_count": 8,
   "metadata": {
    "scrolled": false
   },
   "outputs": [
    {
     "name": "stdout",
     "output_type": "stream",
     "text": [
      "(s0^-1*s1^-1*s2^-1*s3^-1*s4^-1*s0^-1*s1^-1*s2^-1*s3^-1*s0^-1*s1^-1*s2^-1*s0^-1*s1^-1*s0^-1)^15*s1*s2*s3*s2*s1*s4*s3*s1*s0*s2*s3*s4*s3*s0*s1*s3*s2*s1*s0*s4*s3*s2*(s1*s0)^2*s2*s1*s3*s2*s1*s0*s4*s0*s1*s2*s1*s0*s3*s4*s3^2*s2*s1*s0*s4*s3*s2*s1*s0^2*s1*s0*s2*s1*s3*s4*s1*s0*s2*s1*s3*s1*s2*s3*s2*s4*s2*(s1*s3)^2*s2*s1*s0*s4*s3*s2*s1^2*s2*s3*s2*s1*s4*s3^2*s2^2*s1*s0*s3*s2^2*s1*s3*s1*s0*s2*s1*s3*s2*s1*s4*s1*(s0*s2*s1*s0*s3*s4*s3*s2*s1*s0)^2*s0*s1*s0*s2*s1^2*s2*s1*s0*s3*s2*s1*s4*s3*s1*s0*s2*s3*s4*s3*s0*s3*s4*s3*s2^2*s1*s0*s3*s2*s1*s4*s3*s2*s1*s0^2*s1*s2*s1*s0*s3*s2*s4*s0*s2*s1*s0*s3*s4*s3*s2*s1*s0^2*s1*s2*s1*s0*s3*s2*s4*s3*s2*s1*s0^2*s1*s0*s2*s1*s3*s2*s1*s4*s3*s2*s1*s0*s2*s4*s3*s2*s1*s0^2*s3*s2*s4*(s2*s3*s4*s3*s2)^2*s1\n",
      "(s0^-1*s1^-1*s2^-1*s3^-1*s4^-1*s0^-1*s1^-1*s2^-1*s3^-1*s0^-1*s1^-1*s2^-1*s0^-1*s1^-1*s0^-1)^15*s1*s2*s3*s2*s1*s4*s3*s1*s0*s2*s3*s4*s3*s0*s1*s3*s2*s1*s0*s4*s3*s2*(s1*s0)^2*s2*s1*s3*s2*s1*s0*s4*s0*s1*s2*s1*s0*s3*s4*s3^2*s2*s1*s0*s4*s3*s2*s1*s0^2*s1*s0*s2*s1*s3*s4*s1*s0*s2*s1*s3*s1*s2*s3*s2*s4*s2*(s1*s3)^2*s2*s1*s0*s4*s3*s2*s1^2*s2*s3*s2*s1*s4*s3^2*s2^2*s1*s0*s3*s2^2*s1*s3*s1*s0*s2*s1*s3*s2*s1*s4*s1*(s0*s2*s1*s0*s3*s4*s3*s2*s1*s0)^2*s0*s1*s0*s2*s1^2*s2*s1*s0*s3*s2*s1*s4*s3*s1*s0*s2*s3*s4*s3*s0*s3*s4*s3*s2^2*s1*s0*s3*s2*s1*s4*s3*s2*s1*s0^2*s1*s2*s1*s0*s3*s2*s4*s0*s2*s1*s0*s3*s4*s3*s2*s1*s0^2*s1*s2*s1*s0*s3*s2*s4*s3*s2*s1*s0^2*s1*s0*s2*s1*s3*s2*s1*s4*s3*s2*s1*s0*s2*s4*s3*s2*s1*s0^2*s3*s2*s4*(s2*s3*s4*s3*s2)^2*s1\n",
      "True\n"
     ]
    }
   ],
   "source": [
    "print(commonKeyA)\n",
    "print(commonKeyB)\n",
    "print(commonKeyA == commonKeyB)"
   ]
  },
  {
   "cell_type": "code",
   "execution_count": 10,
   "metadata": {},
   "outputs": [
    {
     "name": "stdout",
     "output_type": "stream",
     "text": [
      "((s0^-1*s1^-1*s2^-1*s3^-1*s4^-1*s0^-1*s1^-1*s2^-1*s3^-1*s0^-1*s1^-1*s2^-1*s0^-1*s1^-1*s0^-1)^15, s1*s2*s3*s2*s1*s4*s3, s1*s0*s2*s3*s4*s3, s0*s1*s3*s2*s1*s0*s4*s3*s2*s1*s0, s1*s0*s2*s1*s3*s2*s1*s0*s4, s0*s1*s2*s1*s0*s3*s4*s3, s3*s2*s1*s0*s4*s3*s2*s1*s0, s0*s1*s0*s2*s1*s3*s4, s1*s0*s2*s1*s3, s1*s2*s3*s2*s4, s2*s1*s3, s1*s3*s2*s1*s0*s4*s3*s2*s1, s1*s2*s3*s2*s1*s4*s3, s3*s2, s2*s1*s0*s3*s2, s2*s1*s3, s1*s0*s2*s1*s3*s2*s1*s4, s1*s0*s2*s1*s0*s3*s4*s3*s2*s1*s0, s0*s2*s1*s0*s3*s4*s3*s2*s1*s0, s0*s1*s0*s2*s1, s1*s2*s1*s0*s3*s2*s1*s4*s3, s1*s0*s2*s3*s4*s3, s0*s3*s4*s3*s2, s2*s1*s0*s3*s2*s1*s4*s3*s2*s1*s0, s0*s1*s2*s1*s0*s3*s2*s4, s0*s2*s1*s0*s3*s4*s3*s2*s1*s0, s0*s1*s2*s1*s0*s3*s2*s4*s3*s2*s1*s0, s0*s1*s0*s2*s1*s3*s2*s1*s4*s3*s2*s1*s0, s2*s4*s3*s2*s1*s0, s0*s3*s2*s4, s2*s3*s4*s3*s2, s2*s3*s4*s3*s2*s1)\n"
     ]
    }
   ],
   "source": [
    "print(commonKeyA.left_normal_form())"
   ]
  }
 ],
 "metadata": {
  "kernelspec": {
   "display_name": "SageMath 9.2",
   "language": "sage",
   "name": "sagemath"
  },
  "language_info": {
   "codemirror_mode": {
    "name": "ipython",
    "version": 3
   },
   "file_extension": ".py",
   "mimetype": "text/x-python",
   "name": "python",
   "nbconvert_exporter": "python",
   "pygments_lexer": "ipython3",
   "version": "3.8.5"
  }
 },
 "nbformat": 4,
 "nbformat_minor": 4
}
